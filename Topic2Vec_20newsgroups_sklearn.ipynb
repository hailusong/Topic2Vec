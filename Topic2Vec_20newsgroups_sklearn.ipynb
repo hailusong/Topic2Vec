{
 "cells": [
  {
   "cell_type": "markdown",
   "metadata": {},
   "source": [
    "# TOPIC2VEC algorithm by using gensim and according to the second hint given by Gordon Mohr.  \n",
    "(https://groups.google.com/forum/#!topic/gensim/BVu5-pD6910)\n",
    "\n",
    "\n",
    "1. Vectorization of docs by using CountVectorizer (with or without tfidf) with no lemmatization\n",
    "2. Latent Dirichlet Allocation \n",
    "3. Topic2Vec of the entire dataset (20 NewsGroups)   \n",
    "\n",
    "It saves:\n",
    "* the topic2vec model obtained\n",
    "\n",
    "Changes:\n",
    "1. Minor changes to be compatible with newer gensim library"
   ]
  },
  {
   "cell_type": "code",
   "execution_count": 51,
   "metadata": {},
   "outputs": [],
   "source": [
    "# !pip install pyorient"
   ]
  },
  {
   "cell_type": "code",
   "execution_count": 2,
   "metadata": {},
   "outputs": [],
   "source": [
    "import numpy as np; import pandas as pd; import matplotlib.pyplot as plt\n",
    "%matplotlib inline\n",
    "import codecs \n",
    "from glob import glob\n",
    "import os\n",
    "import pickle\n",
    "import copy\n",
    "import pyorient\n",
    "import ast"
   ]
  },
  {
   "cell_type": "code",
   "execution_count": 3,
   "metadata": {},
   "outputs": [],
   "source": [
    "from __future__ import print_function\n",
    "from time import time, sleep\n",
    "import string\n",
    "import re\n",
    "# random\n",
    "from random import shuffle\n",
    "\n",
    "from sklearn.pipeline import Pipeline\n",
    "from sklearn.feature_extraction.text import CountVectorizer\n",
    "from sklearn.feature_extraction.text import TfidfTransformer\n",
    "from sklearn.feature_extraction.text import ENGLISH_STOP_WORDS\n",
    "from sklearn.decomposition import LatentDirichletAllocation"
   ]
  },
  {
   "cell_type": "code",
   "execution_count": 4,
   "metadata": {},
   "outputs": [],
   "source": [
    "from gensim import corpora, models, similarities"
   ]
  },
  {
   "cell_type": "code",
   "execution_count": 5,
   "metadata": {},
   "outputs": [],
   "source": [
    "n_top_words = 20"
   ]
  },
  {
   "cell_type": "markdown",
   "metadata": {},
   "source": [
    "## 1. IMPORTING DOCS FROM 20 NEWSGROUPS DATASET"
   ]
  },
  {
   "cell_type": "code",
   "execution_count": 6,
   "metadata": {},
   "outputs": [],
   "source": [
    "from sklearn.datasets import fetch_20newsgroups\n",
    "categories = ['comp.sys.ibm.pc.hardware',\n",
    "'comp.sys.mac.hardware',\n",
    "'comp.windows.x',\n",
    "'rec.sport.baseball',\n",
    "'rec.sport.hockey',\n",
    "'sci.med',\n",
    "'sci.space',\n",
    "'soc.religion.christian']\n",
    "\n",
    "n_topics = len(categories)\n",
    "\n",
    "categories_source = {}\n",
    "\n",
    "for cat in categories:\n",
    "    categories_source[cat] = cat.replace('.', '_')"
   ]
  },
  {
   "cell_type": "code",
   "execution_count": 7,
   "metadata": {},
   "outputs": [
    {
     "data": {
      "text/plain": [
       "{'comp.sys.ibm.pc.hardware': 'comp_sys_ibm_pc_hardware',\n",
       " 'comp.sys.mac.hardware': 'comp_sys_mac_hardware',\n",
       " 'comp.windows.x': 'comp_windows_x',\n",
       " 'rec.sport.baseball': 'rec_sport_baseball',\n",
       " 'rec.sport.hockey': 'rec_sport_hockey',\n",
       " 'sci.med': 'sci_med',\n",
       " 'sci.space': 'sci_space',\n",
       " 'soc.religion.christian': 'soc_religion_christian'}"
      ]
     },
     "execution_count": 7,
     "metadata": {},
     "output_type": "execute_result"
    }
   ],
   "source": [
    "categories_source"
   ]
  },
  {
   "cell_type": "code",
   "execution_count": 8,
   "metadata": {},
   "outputs": [],
   "source": [
    "newsgroups_train = fetch_20newsgroups(subset='train',\n",
    "                                      remove=('headers', 'footers', 'quotes'),\n",
    "                                      categories=categories)"
   ]
  },
  {
   "cell_type": "code",
   "execution_count": 9,
   "metadata": {},
   "outputs": [
    {
     "name": "stdout",
     "output_type": "stream",
     "text": [
      "soc.religion.christian soc_religion_christian\n",
      "comp.sys.mac.hardware comp_sys_mac_hardware\n",
      "comp.windows.x comp_windows_x\n",
      "sci.space sci_space\n",
      "sci.med sci_med\n",
      "rec.sport.baseball rec_sport_baseball\n",
      "comp.sys.ibm.pc.hardware comp_sys_ibm_pc_hardware\n",
      "rec.sport.hockey rec_sport_hockey\n"
     ]
    }
   ],
   "source": [
    "for i,j in categories_source.items():\n",
    "    print(i,j)"
   ]
  },
  {
   "cell_type": "markdown",
   "metadata": {},
   "source": [
    "#### TOTAL NUMBER OF DOC"
   ]
  },
  {
   "cell_type": "code",
   "execution_count": 10,
   "metadata": {},
   "outputs": [
    {
     "data": {
      "text/plain": [
       "4744"
      ]
     },
     "execution_count": 10,
     "metadata": {},
     "output_type": "execute_result"
    }
   ],
   "source": [
    "n_docs = newsgroups_train.filenames.shape[0]\n",
    "n_docs"
   ]
  },
  {
   "cell_type": "code",
   "execution_count": 11,
   "metadata": {},
   "outputs": [
    {
     "data": {
      "text/plain": [
       "sklearn.utils.Bunch"
      ]
     },
     "execution_count": 11,
     "metadata": {},
     "output_type": "execute_result"
    }
   ],
   "source": [
    "type(newsgroups_train)"
   ]
  },
  {
   "cell_type": "code",
   "execution_count": 12,
   "metadata": {},
   "outputs": [
    {
     "data": {
      "text/plain": [
       "array(['/home/aimladmin/scikit_learn_data/20news_home/20news-bydate-train/sci.space/61065',\n",
       "       '/home/aimladmin/scikit_learn_data/20news_home/20news-bydate-train/rec.sport.hockey/52618',\n",
       "       '/home/aimladmin/scikit_learn_data/20news_home/20news-bydate-train/comp.windows.x/67032',\n",
       "       ...,\n",
       "       '/home/aimladmin/scikit_learn_data/20news_home/20news-bydate-train/rec.sport.hockey/52576',\n",
       "       '/home/aimladmin/scikit_learn_data/20news_home/20news-bydate-train/soc.religion.christian/20809',\n",
       "       '/home/aimladmin/scikit_learn_data/20news_home/20news-bydate-train/soc.religion.christian/20733'],\n",
       "      dtype='<U96')"
      ]
     },
     "execution_count": 12,
     "metadata": {},
     "output_type": "execute_result"
    }
   ],
   "source": [
    "newsgroups_train.filenames"
   ]
  },
  {
   "cell_type": "markdown",
   "metadata": {},
   "source": [
    "# 2. LDA to find the topic most-associated with each word"
   ]
  },
  {
   "cell_type": "markdown",
   "metadata": {},
   "source": [
    "## 2.1 From Strings to Vectors"
   ]
  },
  {
   "cell_type": "markdown",
   "metadata": {},
   "source": [
    "### WITH Lemmatization"
   ]
  },
  {
   "cell_type": "code",
   "execution_count": 33,
   "metadata": {},
   "outputs": [],
   "source": [
    "# Run this once before doing Lemmatization\n",
    "# import nltk\n",
    "# nltk.download('stopwords')\n",
    "# nltk.download('punkt')\n",
    "# nltk.download('averaged_perceptron_tagger')\n",
    "# nltk.download('wordnet')"
   ]
  },
  {
   "cell_type": "code",
   "execution_count": 31,
   "metadata": {},
   "outputs": [],
   "source": [
    "# Return the casting of the original tag in a single\n",
    "# character which is accepted by the lemmatizer\n",
    "import nltk.corpus  # splits on punctuactions   \n",
    "stop_words = nltk.corpus.stopwords.words('english')\n",
    "\n",
    "import re\n",
    "def get_wordnet_pos(treebank_tag):\n",
    "\n",
    "    # I recognize the initial character of the word, identifying the type\n",
    "    if treebank_tag.startswith('J'):\n",
    "        return nltk.corpus.reader.wordnet.ADJ\n",
    "    elif treebank_tag.startswith('V'):\n",
    "        return nltk.corpus.reader.wordnet.VERB\n",
    "    elif treebank_tag.startswith('N'):\n",
    "        return nltk.corpus.reader.wordnet.NOUN\n",
    "    elif treebank_tag.startswith('R'):\n",
    "        return nltk.corpus.reader.wordnet.ADV\n",
    "    else:\n",
    "        return None\n",
    "\n",
    "from nltk import word_tokenize, pos_tag        \n",
    "from nltk.stem import WordNetLemmatizer \n",
    "class LemmaTokenizer(object):\n",
    "    def __init__(self):\n",
    "        self.wnl = WordNetLemmatizer()\n",
    "    def __call__(self, doc):\n",
    "        tokenized_doc = word_tokenize(doc) # splits on punctuactions  \n",
    "        tagged_doc = pos_tag(tokenized_doc)\n",
    "        \n",
    "        lemmatized_doc = []\n",
    "        # Scan the (word, tag) tuples which are the elements of tagged_tweet1\n",
    "        for word, tag in tagged_doc:\n",
    "            ret_value = get_wordnet_pos(tag)\n",
    "            # If the function does not return None I provide the ret_value\n",
    "            if ret_value != None:\n",
    "                lemmatized_doc.append(self.wnl.lemmatize(word, get_wordnet_pos(tag)))\n",
    "            # If the function returns None I do not provide the ret_value\n",
    "            else:\n",
    "                lemmatized_doc.append(self.wnl.lemmatize(word))\n",
    "        nonumbers_nopunct_lemmatized_doc = [word for word in lemmatized_doc if re.search('[a-zA-Z]{2,}', word)]\n",
    "#        nonumbers_nopunct_lemmatized_doc = [word for word in nopunct_lemmatized_doc if not re.search('\\d+', word)]\n",
    "        lemmatized_doc_stopw = [word for word in nonumbers_nopunct_lemmatized_doc if word not in stop_words]\n",
    "        \n",
    "        return lemmatized_doc_stopw #[self.wnl.lemmatize(t) for t in word_tokenize(doc)]"
   ]
  },
  {
   "cell_type": "code",
   "execution_count": 38,
   "metadata": {},
   "outputs": [
    {
     "name": "stdout",
     "output_type": "stream",
     "text": [
      "fit vectorizer with lemmatization done in 86.246s.\n"
     ]
    }
   ],
   "source": [
    "t0 = time()\n",
    "tf_vectorizer = CountVectorizer(tokenizer=LemmaTokenizer(), encoding='utf-8', analyzer='word',\n",
    "                                stop_words=[\"'s\", \"fx\"], ngram_range = (1,1), min_df = 2).fit(newsgroups_train.data)\n",
    "print(\"fit vectorizer with lemmatization done in %0.3fs.\" % (time() - t0))"
   ]
  },
  {
   "cell_type": "code",
   "execution_count": 39,
   "metadata": {},
   "outputs": [
    {
     "data": {
      "text/plain": [
       "CountVectorizer(analyzer='word', binary=False, decode_error='strict',\n",
       "        dtype=<class 'numpy.int64'>, encoding='utf-8', input='content',\n",
       "        lowercase=True, max_df=1.0, max_features=None, min_df=2,\n",
       "        ngram_range=(1, 1), preprocessor=None, stop_words=[\"'s\", 'fx'],\n",
       "        strip_accents=None, token_pattern='(?u)\\\\b\\\\w\\\\w+\\\\b',\n",
       "        tokenizer=<__main__.LemmaTokenizer object at 0x7f2eab3324e0>,\n",
       "        vocabulary=None)"
      ]
     },
     "execution_count": 39,
     "metadata": {},
     "output_type": "execute_result"
    }
   ],
   "source": [
    "tf_vectorizer"
   ]
  },
  {
   "cell_type": "markdown",
   "metadata": {},
   "source": [
    "### WITHOUT Lemmatization"
   ]
  },
  {
   "cell_type": "code",
   "execution_count": 13,
   "metadata": {},
   "outputs": [
    {
     "name": "stdout",
     "output_type": "stream",
     "text": [
      "fit vectorizer without lemmatization done in 0.904s.\n"
     ]
    }
   ],
   "source": [
    "t0 = time()\n",
    "tf_vectorizer = CountVectorizer(encoding='utf-8', analyzer='word', stop_words='english',\n",
    "                                ngram_range = (1,1), min_df = 2, token_pattern = '[a-zA-Z]{2,}').fit(newsgroups_train.data)\n",
    "print(\"fit vectorizer without lemmatization done in %0.3fs.\" % (time() - t0))"
   ]
  },
  {
   "cell_type": "code",
   "execution_count": 14,
   "metadata": {},
   "outputs": [
    {
     "data": {
      "text/plain": [
       "sklearn.feature_extraction.text.CountVectorizer"
      ]
     },
     "execution_count": 14,
     "metadata": {},
     "output_type": "execute_result"
    }
   ],
   "source": [
    "CountVectorizer"
   ]
  },
  {
   "cell_type": "code",
   "execution_count": 15,
   "metadata": {},
   "outputs": [
    {
     "data": {
      "text/plain": [
       "CountVectorizer(analyzer='word', binary=False, decode_error='strict',\n",
       "        dtype=<class 'numpy.int64'>, encoding='utf-8', input='content',\n",
       "        lowercase=True, max_df=1.0, max_features=None, min_df=2,\n",
       "        ngram_range=(1, 1), preprocessor=None, stop_words='english',\n",
       "        strip_accents=None, token_pattern='[a-zA-Z]{2,}', tokenizer=None,\n",
       "        vocabulary=None)"
      ]
     },
     "execution_count": 15,
     "metadata": {},
     "output_type": "execute_result"
    }
   ],
   "source": [
    "tf_vectorizer"
   ]
  },
  {
   "cell_type": "markdown",
   "metadata": {},
   "source": [
    "### Vectorization"
   ]
  },
  {
   "cell_type": "code",
   "execution_count": 16,
   "metadata": {},
   "outputs": [],
   "source": [
    "# # get_feature_names() returns vocabulary\n",
    "n_features = len(tf_vectorizer.get_feature_names())"
   ]
  },
  {
   "cell_type": "code",
   "execution_count": 17,
   "metadata": {},
   "outputs": [
    {
     "data": {
      "text/plain": [
       "19012"
      ]
     },
     "execution_count": 17,
     "metadata": {},
     "output_type": "execute_result"
    }
   ],
   "source": [
    "n_features"
   ]
  },
  {
   "cell_type": "code",
   "execution_count": 18,
   "metadata": {},
   "outputs": [
    {
     "data": {
      "text/plain": [
       "[['aa',\n",
       "  'aaa',\n",
       "  'aardvark',\n",
       "  'aaron',\n",
       "  'aas',\n",
       "  'ab',\n",
       "  'abandon',\n",
       "  'abandoned',\n",
       "  'abbott',\n",
       "  'abbreviation'],\n",
       " ['zoomed',\n",
       "  'zooming',\n",
       "  'zorro',\n",
       "  'zou',\n",
       "  'zpixmap',\n",
       "  'zterm',\n",
       "  'zubov',\n",
       "  'zupancic',\n",
       "  'zupcic',\n",
       "  'zyxel']]"
      ]
     },
     "execution_count": 18,
     "metadata": {},
     "output_type": "execute_result"
    }
   ],
   "source": [
    "[tf_vectorizer.get_feature_names()[:10], tf_vectorizer.get_feature_names()[-10:]]"
   ]
  },
  {
   "cell_type": "code",
   "execution_count": 19,
   "metadata": {},
   "outputs": [
    {
     "data": {
      "text/plain": [
       "\"Hmmm. I seem to recall that the attraction of solid state record-\\nplayers and radios in the 1960s wasn't better performance but lower\\nper-unit cost than vacuum-tube systems.\\n\\n\\tMind you, my father was a vacuum-tube fan in the 60s (Switched\\nto solid-state in the mid-seventies and then abruptly died; no doubt\\nthere's a lesson in that) and his account could have been biased.\""
      ]
     },
     "execution_count": 19,
     "metadata": {},
     "output_type": "execute_result"
    }
   ],
   "source": [
    "newsgroups_train.data[0]"
   ]
  },
  {
   "cell_type": "code",
   "execution_count": 20,
   "metadata": {},
   "outputs": [],
   "source": [
    "tf_docs = tf_vectorizer.transform(newsgroups_train.data)"
   ]
  },
  {
   "cell_type": "code",
   "execution_count": 21,
   "metadata": {},
   "outputs": [
    {
     "data": {
      "text/plain": [
       "<4744x19012 sparse matrix of type '<class 'numpy.int64'>'\n",
       "\twith 259893 stored elements in Compressed Sparse Row format>"
      ]
     },
     "execution_count": 21,
     "metadata": {},
     "output_type": "execute_result"
    }
   ],
   "source": [
    "tf_docs"
   ]
  },
  {
   "cell_type": "markdown",
   "metadata": {},
   "source": [
    "### WITH TFIDF"
   ]
  },
  {
   "cell_type": "markdown",
   "metadata": {},
   "source": [
    "tfidf_vectorizer = TfidfTransformer(sublinear_tf=False, use_idf = True).fit(tf_docs)\n",
    "tfidf_docs = tfidf_vectorizer.transform(tf_docs)"
   ]
  },
  {
   "cell_type": "markdown",
   "metadata": {},
   "source": [
    "## 2.2 LDA implementation"
   ]
  },
  {
   "cell_type": "code",
   "execution_count": 22,
   "metadata": {},
   "outputs": [],
   "source": [
    "def print_top_words(model, feature_names, n_top_words):\n",
    "    for topic_idx, topic in enumerate(model.components_):\n",
    "        print(\"Topic #%d:\" % topic_idx)\n",
    "        print(\" \".join([feature_names[i] for i in topic.argsort()[:-n_top_words - 1:-1]]))\n",
    "    print()"
   ]
  },
  {
   "cell_type": "code",
   "execution_count": 23,
   "metadata": {},
   "outputs": [
    {
     "data": {
      "text/plain": [
       "sklearn.decomposition.online_lda.LatentDirichletAllocation"
      ]
     },
     "execution_count": 23,
     "metadata": {},
     "output_type": "execute_result"
    }
   ],
   "source": [
    "LatentDirichletAllocation"
   ]
  },
  {
   "cell_type": "code",
   "execution_count": 24,
   "metadata": {},
   "outputs": [
    {
     "name": "stdout",
     "output_type": "stream",
     "text": [
      "Fitting LDA models with tf features, n_samples=4744 and n_features=19012...\n"
     ]
    },
    {
     "name": "stderr",
     "output_type": "stream",
     "text": [
      "/anaconda/envs/py35/lib/python3.5/site-packages/sklearn/decomposition/online_lda.py:294: DeprecationWarning: n_topics has been renamed to n_components in version 0.19 and will be removed in 0.21\n",
      "  DeprecationWarning)\n"
     ]
    },
    {
     "name": "stdout",
     "output_type": "stream",
     "text": [
      "done in 11.349s.\n"
     ]
    }
   ],
   "source": [
    "print(\"Fitting LDA models with tf features, n_samples=%d and n_features=%d...\"\n",
    "      % (n_docs, n_features))\n",
    "lda = LatentDirichletAllocation(n_topics=n_topics, max_iter=5,\n",
    "                                learning_method='online', learning_offset=50.,\n",
    "                                random_state=0)\n",
    "t0 = time()\n",
    "lda.fit(tf_docs)\n",
    "print(\"done in %0.3fs.\" % (time() - t0))"
   ]
  },
  {
   "cell_type": "code",
   "execution_count": 25,
   "metadata": {},
   "outputs": [
    {
     "name": "stdout",
     "output_type": "stream",
     "text": [
      "\n",
      "Topics in LDA model:\n",
      "Topic #0:\n",
      "lssu gl cpu maria dma mask stormed dominating highlighting thirty belonged numlock mod wrist ik sgi rex indiana datahand cache\n",
      "Topic #1:\n",
      "like use just know does god people don time think problem drive edu new work good way window want thanks\n",
      "Topic #2:\n",
      "game year team games like season don think good win right just play players got didn did won hockey league\n",
      "Topic #3:\n",
      "food msg health disease cause patients diet lib medical diseases blood eat libxmu xmu foods day brain common effect doctor\n",
      "Topic #4:\n",
      "entry output com pts file edu period la buf entries pp rules power printf van oname build eof pt vs\n",
      "Topic #5:\n",
      "pitt gordon banks skepticism patients soon geb intellect jxp chastity dsl shameful cadre surrender candida pain edu yeast medical treatment\n",
      "Topic #6:\n",
      "space nasa launch orbit research center data earth shuttle satellite april lunar national moon year mission university information years science\n",
      "Topic #7:\n",
      "church catholic pope holy orthodox son schism authority mydisplay divine churches doctrine canon dpy bishop tomb gc archbishop creed catholics\n",
      "\n"
     ]
    }
   ],
   "source": [
    "# tf_feature_names is vocabulary\n",
    "print(\"\\nTopics in LDA model:\")\n",
    "tf_feature_names = tf_vectorizer.get_feature_names()\n",
    "print_top_words(lda, tf_feature_names, n_top_words)"
   ]
  },
  {
   "cell_type": "code",
   "execution_count": 26,
   "metadata": {},
   "outputs": [
    {
     "data": {
      "text/plain": [
       "(8, 19012)"
      ]
     },
     "execution_count": 26,
     "metadata": {},
     "output_type": "execute_result"
    }
   ],
   "source": [
    "# row# of lda.components_ is topic#\n",
    "# columns are the topic's unnormalized word weights (for all vocabulary words), in the sequence of the vocabulary word order\n",
    "per_topic_distr_LDA = lda.components_\n",
    "per_topic_distr_LDA.shape\n",
    "#per_topic_distr_LDA.sum(axis=1)"
   ]
  },
  {
   "cell_type": "markdown",
   "metadata": {},
   "source": [
    "## pyLDAVis"
   ]
  },
  {
   "cell_type": "code",
   "execution_count": 28,
   "metadata": {},
   "outputs": [],
   "source": [
    "LDAvis_data_filepath = os.path.join('./', 'ldavis_prepared')"
   ]
  },
  {
   "cell_type": "code",
   "execution_count": 29,
   "metadata": {},
   "outputs": [],
   "source": [
    "import pyLDAvis\n",
    "import pyLDAvis.sklearn\n",
    "import warnings\n",
    "\n",
    "# this is a bit time consuming - make the if statement True\n",
    "# if you want to execute data prep yourself.\n",
    "if 1 == 1:\n",
    "    LDAvis_prepared = pyLDAvis.sklearn.prepare(lda, tf_docs, tf_vectorizer, mds='tsne')\n",
    "    with open(LDAvis_data_filepath, 'wb') as f:\n",
    "        pickle.dump(LDAvis_prepared, f)"
   ]
  },
  {
   "cell_type": "code",
   "execution_count": 30,
   "metadata": {},
   "outputs": [
    {
     "data": {
      "text/html": [
       "\n",
       "<link rel=\"stylesheet\" type=\"text/css\" href=\"https://cdn.rawgit.com/bmabey/pyLDAvis/files/ldavis.v1.0.0.css\">\n",
       "\n",
       "\n",
       "<div id=\"ldavis_el340571406971090427844463343745\"></div>\n",
       "<script type=\"text/javascript\">\n",
       "\n",
       "var ldavis_el340571406971090427844463343745_data = {\"plot.opts\": {\"xlab\": \"PC1\", \"ylab\": \"PC2\"}, \"tinfo\": {\"Category\": [\"Default\", \"Default\", \"Default\", \"Default\", \"Default\", \"Default\", \"Default\", \"Default\", \"Default\", \"Default\", \"Default\", \"Default\", \"Default\", \"Default\", \"Default\", \"Default\", \"Default\", \"Default\", \"Default\", \"Default\", \"Default\", \"Default\", \"Default\", \"Default\", \"Default\", \"Default\", \"Default\", \"Default\", \"Default\", \"Default\", \"Topic1\", \"Topic1\", \"Topic1\", \"Topic1\", \"Topic1\", \"Topic1\", \"Topic1\", \"Topic1\", \"Topic1\", \"Topic1\", \"Topic1\", \"Topic1\", \"Topic1\", \"Topic1\", \"Topic1\", \"Topic1\", \"Topic1\", \"Topic1\", \"Topic1\", \"Topic1\", \"Topic1\", \"Topic1\", \"Topic1\", \"Topic1\", \"Topic1\", \"Topic1\", \"Topic1\", \"Topic1\", \"Topic1\", \"Topic1\", \"Topic1\", \"Topic1\", \"Topic1\", \"Topic1\", \"Topic1\", \"Topic1\", \"Topic1\", \"Topic1\", \"Topic1\", \"Topic1\", \"Topic1\", \"Topic1\", \"Topic1\", \"Topic1\", \"Topic1\", \"Topic1\", \"Topic1\", \"Topic1\", \"Topic1\", \"Topic1\", \"Topic1\", \"Topic1\", \"Topic1\", \"Topic1\", \"Topic1\", \"Topic1\", \"Topic1\", \"Topic1\", \"Topic1\", \"Topic1\", \"Topic1\", \"Topic1\", \"Topic1\", \"Topic1\", \"Topic1\", \"Topic1\", \"Topic1\", \"Topic1\", \"Topic1\", \"Topic1\", \"Topic2\", \"Topic2\", \"Topic2\", \"Topic2\", \"Topic2\", \"Topic2\", \"Topic2\", \"Topic2\", \"Topic2\", \"Topic2\", \"Topic2\", \"Topic2\", \"Topic2\", \"Topic2\", \"Topic2\", \"Topic2\", \"Topic2\", \"Topic2\", \"Topic2\", \"Topic2\", \"Topic2\", \"Topic2\", \"Topic2\", \"Topic2\", \"Topic2\", \"Topic2\", \"Topic2\", \"Topic2\", \"Topic2\", \"Topic2\", \"Topic2\", \"Topic2\", \"Topic2\", \"Topic2\", \"Topic2\", \"Topic2\", \"Topic2\", \"Topic2\", \"Topic2\", \"Topic2\", \"Topic2\", \"Topic2\", \"Topic2\", \"Topic2\", \"Topic2\", \"Topic2\", \"Topic2\", \"Topic2\", \"Topic2\", \"Topic2\", \"Topic2\", \"Topic2\", \"Topic2\", \"Topic2\", \"Topic2\", \"Topic2\", \"Topic2\", \"Topic2\", \"Topic2\", \"Topic2\", \"Topic2\", \"Topic3\", \"Topic3\", \"Topic3\", \"Topic3\", \"Topic3\", \"Topic3\", \"Topic3\", \"Topic3\", \"Topic3\", \"Topic3\", \"Topic3\", \"Topic3\", \"Topic3\", \"Topic3\", \"Topic3\", \"Topic3\", \"Topic3\", \"Topic3\", \"Topic3\", \"Topic3\", \"Topic3\", \"Topic3\", \"Topic3\", \"Topic3\", \"Topic3\", \"Topic3\", \"Topic3\", \"Topic3\", \"Topic3\", \"Topic3\", \"Topic3\", \"Topic3\", \"Topic3\", \"Topic3\", \"Topic3\", \"Topic3\", \"Topic3\", \"Topic3\", \"Topic3\", \"Topic3\", \"Topic3\", \"Topic3\", \"Topic3\", \"Topic3\", \"Topic3\", \"Topic3\", \"Topic3\", \"Topic3\", \"Topic3\", \"Topic3\", \"Topic3\", \"Topic3\", \"Topic3\", \"Topic3\", \"Topic3\", \"Topic3\", \"Topic3\", \"Topic4\", \"Topic4\", \"Topic4\", \"Topic4\", \"Topic4\", \"Topic4\", \"Topic4\", \"Topic4\", \"Topic4\", \"Topic4\", \"Topic4\", \"Topic4\", \"Topic4\", \"Topic4\", \"Topic4\", \"Topic4\", \"Topic4\", \"Topic4\", \"Topic4\", \"Topic4\", \"Topic4\", \"Topic4\", \"Topic4\", \"Topic4\", \"Topic4\", \"Topic4\", \"Topic4\", \"Topic4\", \"Topic4\", \"Topic4\", \"Topic4\", \"Topic4\", \"Topic4\", \"Topic4\", \"Topic4\", \"Topic4\", \"Topic4\", \"Topic4\", \"Topic4\", \"Topic4\", \"Topic4\", \"Topic4\", \"Topic4\", \"Topic4\", \"Topic4\", \"Topic4\", \"Topic4\", \"Topic4\", \"Topic4\", \"Topic4\", \"Topic4\", \"Topic4\", \"Topic4\", \"Topic4\", \"Topic4\", \"Topic4\", \"Topic4\", \"Topic4\", \"Topic4\", \"Topic4\", \"Topic4\", \"Topic4\", \"Topic4\", \"Topic4\", \"Topic4\", \"Topic4\", \"Topic4\", \"Topic4\", \"Topic4\", \"Topic4\", \"Topic4\", \"Topic5\", \"Topic5\", \"Topic5\", \"Topic5\", \"Topic5\", \"Topic5\", \"Topic5\", \"Topic5\", \"Topic5\", \"Topic5\", \"Topic5\", \"Topic5\", \"Topic5\", \"Topic5\", \"Topic5\", \"Topic5\", \"Topic5\", \"Topic5\", \"Topic5\", \"Topic5\", \"Topic5\", \"Topic5\", \"Topic5\", \"Topic5\", \"Topic5\", \"Topic5\", \"Topic5\", \"Topic5\", \"Topic5\", \"Topic5\", \"Topic5\", \"Topic5\", \"Topic5\", \"Topic5\", \"Topic5\", \"Topic5\", \"Topic5\", \"Topic5\", \"Topic5\", \"Topic5\", \"Topic5\", \"Topic5\", \"Topic5\", \"Topic5\", \"Topic5\", \"Topic5\", \"Topic5\", \"Topic5\", \"Topic5\", \"Topic5\", \"Topic5\", \"Topic5\", \"Topic5\", \"Topic5\", \"Topic5\", \"Topic5\", \"Topic5\", \"Topic5\", \"Topic5\", \"Topic5\", \"Topic5\", \"Topic5\", \"Topic6\", \"Topic6\", \"Topic6\", \"Topic6\", \"Topic6\", \"Topic6\", \"Topic6\", \"Topic6\", \"Topic6\", \"Topic6\", \"Topic6\", \"Topic6\", \"Topic6\", \"Topic6\", \"Topic6\", \"Topic6\", \"Topic6\", \"Topic6\", \"Topic6\", \"Topic6\", \"Topic6\", \"Topic6\", \"Topic6\", \"Topic6\", \"Topic6\", \"Topic6\", \"Topic6\", \"Topic6\", \"Topic6\", \"Topic6\", \"Topic6\", \"Topic6\", \"Topic6\", \"Topic6\", \"Topic6\", \"Topic6\", \"Topic6\", \"Topic6\", \"Topic6\", \"Topic6\", \"Topic6\", \"Topic6\", \"Topic6\", \"Topic6\", \"Topic6\", \"Topic6\", \"Topic6\", \"Topic6\", \"Topic6\", \"Topic6\", \"Topic6\", \"Topic6\", \"Topic6\", \"Topic6\", \"Topic7\", \"Topic7\", \"Topic7\", \"Topic7\", \"Topic7\", \"Topic7\", \"Topic7\", \"Topic7\", \"Topic7\", \"Topic7\", \"Topic7\", \"Topic7\", \"Topic7\", \"Topic7\", \"Topic7\", \"Topic7\", \"Topic7\", \"Topic7\", \"Topic7\", \"Topic7\", \"Topic7\", \"Topic7\", \"Topic7\", \"Topic7\", \"Topic7\", \"Topic7\", \"Topic7\", \"Topic7\", \"Topic7\", \"Topic7\", \"Topic7\", \"Topic7\", \"Topic7\", \"Topic7\", \"Topic7\", \"Topic7\", \"Topic7\", \"Topic7\", \"Topic7\", \"Topic7\", \"Topic7\", \"Topic7\", \"Topic7\", \"Topic7\", \"Topic7\", \"Topic7\", \"Topic7\", \"Topic7\", \"Topic7\", \"Topic7\", \"Topic7\", \"Topic8\", \"Topic8\", \"Topic8\", \"Topic8\", \"Topic8\", \"Topic8\", \"Topic8\", \"Topic8\", \"Topic8\", \"Topic8\", \"Topic8\", \"Topic8\", \"Topic8\", \"Topic8\", \"Topic8\", \"Topic8\", \"Topic8\", \"Topic8\", \"Topic8\", \"Topic8\", \"Topic8\", \"Topic8\", \"Topic8\", \"Topic8\", \"Topic8\", \"Topic8\", \"Topic8\", \"Topic8\", \"Topic8\", \"Topic8\", \"Topic8\", \"Topic8\", \"Topic8\", \"Topic8\", \"Topic8\", \"Topic8\", \"Topic8\", \"Topic8\", \"Topic8\", \"Topic8\", \"Topic8\", \"Topic8\", \"Topic8\", \"Topic8\"], \"Freq\": [1043.0, 1324.0, 785.0, 667.0, 284.0, 699.0, 421.0, 371.0, 1058.0, 621.0, 440.0, 1072.0, 1389.0, 208.0, 359.0, 451.0, 434.0, 1644.0, 239.0, 225.0, 449.0, 377.0, 1159.0, 270.0, 317.0, 430.0, 466.0, 220.0, 409.0, 122.0, 627.6105106958198, 581.8899098277628, 447.8880676219148, 412.9994221875165, 377.0816510267293, 346.87161419977707, 383.1706431256099, 309.6606200725068, 303.4097121956475, 285.11849965423926, 267.7984609929689, 269.1577951672884, 275.87629046757144, 264.2378128215396, 252.6094381696095, 251.34898349381172, 255.48757722710275, 491.04576887921576, 356.3436180652042, 237.53122123787577, 240.15098040765977, 264.60724873261705, 214.42092147673327, 217.4816488362654, 211.49065551557746, 310.10169451802625, 200.9385083851847, 196.05074090529638, 204.87030547011722, 412.66204242131886, 1063.8409097184144, 739.7631912763018, 748.6417111486118, 421.9771473294162, 432.3443184940827, 323.05904837831116, 259.83787973801526, 328.8291698552673, 1016.0563977442322, 489.58464532322415, 1122.3783349898042, 595.8564996763091, 668.2259754340241, 1191.738957997891, 331.81216185059105, 429.5535814393186, 333.38014250147455, 575.5243281731193, 1127.9428673659625, 599.3451851661832, 468.6169012359175, 394.0284767521932, 475.7326694118879, 1151.8375158668518, 583.8816793242618, 1209.212196602549, 545.7757581357746, 927.9034934886569, 992.3792354492474, 582.1984530726495, 638.7139091391797, 785.7935566896342, 592.2244828781463, 509.39068972926117, 573.0160267355737, 678.7880275757741, 725.7856625678753, 644.1117259441696, 492.9602360751487, 494.61550644901195, 376.18272409666275, 293.41382212548984, 277.81750992031715, 259.6476041548631, 432.2193524676782, 175.49522207909553, 147.49449463813625, 171.00302369050502, 130.93094733067787, 141.58148787292444, 122.7944420095669, 108.9873741462294, 102.78007638237845, 95.83468209035581, 89.9164514698187, 87.651467110067, 79.47649483203371, 82.23387779406973, 84.97866035122617, 76.45981985593583, 64.60658019607082, 63.352434564607535, 64.93908306999658, 137.66138692244667, 58.66018047068146, 58.09708630213263, 59.75013885897489, 75.05781189400751, 58.2296468923252, 690.2322600485188, 192.39954481251436, 124.39155109456468, 108.14604095821757, 104.11482680237154, 587.2326977952586, 83.37609484453918, 349.9480183136655, 205.3681128808458, 684.3048849779644, 160.96190461991412, 314.2620434717983, 282.88477812875334, 178.33932438856547, 110.60838616931508, 284.6128250509841, 326.95700898273407, 287.4291521690567, 350.64949344439145, 284.5090960922604, 364.05363469139246, 409.8144342042775, 367.83180629221624, 224.99629872704853, 316.7010080572961, 218.8080720286777, 244.26830314145545, 228.57923247243872, 174.05303159258648, 200.69685403325408, 177.8410981174508, 181.23548063867872, 224.85386079961873, 177.36861200102342, 124.86853931018335, 195.1650893654281, 259.70114287577644, 113.17157340664201, 173.76660122505953, 87.5546719309951, 117.02628103623294, 77.23596393701636, 87.1912649869983, 86.58866589364632, 77.79845427623981, 63.471366502310396, 87.0942193523712, 60.31759867419869, 125.97387572355375, 52.823032439208255, 53.31016360226366, 50.28548444287787, 52.387324841185595, 66.42233143663272, 122.22055440343043, 45.413341110204364, 49.03875301129702, 55.071705781100206, 43.81059435590956, 45.028798285792085, 56.79049498949967, 42.93620187077385, 429.9811956251634, 155.02367693662245, 60.90944713780981, 75.26447838233231, 957.7332404765694, 167.583348618692, 69.80325930829933, 64.30843085606206, 105.67021708633071, 128.2114867169229, 127.11763986410917, 223.80356227486806, 129.23991435329523, 212.71768192164419, 220.8056542510591, 169.38491575513868, 85.62833028427202, 176.04034847880945, 138.6010423693552, 147.20907625127174, 215.72967823652124, 139.2857360933722, 141.93846605120083, 165.1754262461083, 143.40432594303232, 132.72180705879046, 134.1610863192452, 238.32881124561072, 122.34563436755946, 36.69695349519143, 38.79653733208772, 54.36927346060887, 88.85633629805406, 40.265536089812784, 60.24370562648496, 60.20182790089203, 121.43372450070203, 27.783178275577203, 39.46859836501604, 25.813793319970554, 34.202116618125565, 43.04312881334891, 26.42610440536886, 25.250620823174433, 26.10466319233475, 23.71706170129544, 23.126269073725666, 26.51635224756642, 22.61560771311888, 21.716402376830928, 34.13872936615905, 23.580854018270646, 21.873103391575643, 23.740316145151112, 35.81663452262567, 33.65582528542328, 27.92666698770027, 173.03383858819507, 142.76119775647146, 125.9111165649467, 36.73755551438957, 76.04030216544989, 82.95068330096291, 53.599675715107715, 135.59341823527592, 62.60523711459689, 79.49217724547493, 359.8157127275777, 30.88010101729709, 305.35635705518746, 75.17131030811451, 65.76295527136631, 98.75120327275063, 125.69579889018978, 97.77012922791324, 119.24422670719792, 206.7074759113731, 72.63996607135694, 94.01219211892244, 80.56142605255548, 82.7482275964487, 225.61227411362793, 90.12772596610503, 102.24017781997026, 113.0966610675608, 128.06567310943828, 87.52950287020224, 265.19484481663517, 236.17999190171375, 115.96220602682355, 121.91834083202248, 230.76296522324776, 126.60421928704862, 109.52483898129867, 105.25406366285247, 93.88382462360913, 92.79842765726055, 93.93588950647646, 127.05508460637236, 29.89372401217865, 26.546080818664628, 22.1376008977621, 21.87978365562596, 60.38856440675246, 20.244022930463323, 19.10834317535449, 23.338595377869115, 20.828395610487465, 28.543787833352233, 16.64264237898891, 45.04313150655106, 15.288831153632165, 15.644632833067861, 15.06871940160311, 20.891428143783212, 137.76928800273038, 13.91809047372284, 11.931378564290668, 10.855088493228745, 15.209013787644187, 10.510181822481456, 10.420124194339676, 12.001076637356537, 10.281164478055345, 10.52621362241961, 10.500728836978084, 11.595749059707552, 12.205186579771677, 16.540371493455705, 45.52944874104384, 12.61534471225239, 16.855558233693436, 45.12743753833257, 33.17672425215235, 29.26344143178387, 23.64900228807238, 24.336354268947872, 33.654024066848386, 53.196567587617416, 32.374901092873394, 46.943001645016196, 29.326904406950135, 25.958910262348603, 39.35196467978778, 75.33295545570641, 33.5036326220107, 29.86585673755043, 84.51264048440245, 63.3396945740249, 50.38909328613552, 56.02236621184994, 64.5991360529455, 30.986678838149956, 54.763907404303836, 35.25238537177101, 35.712820128385665, 36.0037013040477, 39.685109922369016, 31.133168367836554, 29.33075230532759, 55.546885813180644, 35.38542059053616, 58.195195459504355, 58.18213873841167, 58.7171571849181, 61.255604196159226, 58.16774292395677, 58.70453496500662, 18.830329210553078, 59.82797534420508, 58.15995288083615, 13.654731219637926, 13.523062772797049, 65.89699756405129, 12.444630934462126, 14.73382326803092, 11.140542042507622, 11.877427781876637, 13.134222134959751, 10.912566240790408, 9.38824248220434, 10.598899557972944, 9.228751873475556, 9.61905786468924, 8.818230612367003, 18.838185155211697, 8.62893512771054, 15.759095312998463, 8.855091436084068, 8.144714195295862, 74.71962492047345, 77.27697330057433, 14.990043585888081, 68.23932578495268, 14.117557758336845, 23.0314100099547, 15.027131754996903, 25.13462534232075, 22.721376423124774, 63.65509071714929, 32.80845097402495, 25.483954276311522, 24.109040013771388, 50.607551392702064, 62.62040540824414, 34.50709553082437, 17.43365420455131, 30.07421854469625, 22.010446138621788, 34.69405552447563, 21.040960984788217, 36.17909226101742, 20.001367111117215, 20.861097962586566, 73.58652641530335, 37.069316016249005, 23.212763696241225, 25.88786066914004, 18.970287366208005, 16.448630536404867, 16.00822888291261, 15.746736296229447, 15.751530649926874, 15.693407869851537, 18.830887767348695, 18.294245325184093, 12.374217095137091, 11.904882779552372, 11.274603178482854, 11.642411557501216, 10.579811750114274, 10.750574728831403, 9.940720530099828, 9.634380977774175, 9.601315647182679, 13.85675520054363, 9.256555115327084, 9.33001129953271, 9.171295487879485, 22.6266620666082, 8.512704888703368, 25.88622748255113, 8.409237544048729, 9.047122290395714, 22.252295676196997, 40.68569995826307, 35.73149633149954, 74.27017674224749, 216.61660300287392, 27.984371524953417, 29.462455823403218, 14.745592838807237, 30.3565386131588, 28.40135449630239, 20.705563405986435, 24.33995660369307, 20.315739312188118, 44.121334775474175, 26.859492841724247, 36.78913441759291, 39.641245199840725, 20.308636407442588, 17.305838577633367, 21.733584941257728, 16.158219185632063, 79.71338713505911, 11.82078306708082, 7.599848321357136, 5.987697813796849, 14.301539109603123, 11.228529096961282, 4.695907479963838, 4.56080738959735, 4.436267682000395, 4.369119444590797, 4.843787882332504, 4.194667345171289, 4.047218452823387, 5.106472835047997, 19.798596317941893, 3.7417838800200287, 4.775217642550726, 4.089998120209458, 4.814365667331063, 3.2625004420957775, 3.081528246904258, 2.9477078728585107, 3.9533567140201455, 2.849107665814934, 2.8450698357053406, 2.6410603591930757, 3.101812360461931, 2.5592476045905697, 2.5604343125519335, 2.4006453379773824, 10.491194226969133, 8.469189796739807, 3.406046033929171, 8.881290110681617, 9.888799891142014, 5.3258674372716115, 14.070080153689478, 6.515201744478568, 19.279090995923053, 12.098020015325545, 5.281898478344221, 5.971600334957021, 5.044705672632062, 4.337401383702763], \"loglift\": [30.0, 29.0, 28.0, 27.0, 26.0, 25.0, 24.0, 23.0, 22.0, 21.0, 20.0, 19.0, 18.0, 17.0, 16.0, 15.0, 14.0, 13.0, 12.0, 11.0, 10.0, 9.0, 8.0, 7.0, 6.0, 5.0, 4.0, 3.0, 2.0, 1.0, 0.539, 0.5388, 0.5383, 0.5383, 0.5381, 0.5379, 0.5378, 0.5378, 0.5377, 0.5374, 0.5373, 0.5373, 0.5372, 0.5372, 0.5372, 0.5371, 0.5371, 0.5371, 0.537, 0.537, 0.5368, 0.5366, 0.5365, 0.5365, 0.5365, 0.5365, 0.5365, 0.5362, 0.5362, 0.5362, 0.5323, 0.5358, 0.532, 0.5344, 0.5315, 0.5336, 0.5349, 0.5272, 0.4816, 0.5095, 0.4708, 0.5006, 0.4874, 0.4394, 0.522, 0.4985, 0.5189, 0.4574, 0.3694, 0.4405, 0.4722, 0.4985, 0.4647, 0.2911, 0.4141, 0.2327, 0.4116, 0.2488, 0.2036, 0.3898, 0.3316, 0.1513, 0.3085, 0.4047, 0.2995, 0.106, -0.0613, 0.0893, 0.4129, 0.3219, 1.7573, 1.7565, 1.7562, 1.7561, 1.7548, 1.7544, 1.7543, 1.7542, 1.7536, 1.7527, 1.7525, 1.752, 1.7519, 1.7512, 1.7509, 1.7507, 1.7498, 1.7498, 1.7498, 1.7495, 1.7475, 1.7474, 1.7467, 1.7466, 1.7463, 1.7462, 1.7462, 1.7461, 1.746, 1.7458, 1.7437, 1.7455, 1.7403, 1.7396, 1.7033, 1.7359, 1.6022, 1.6357, 1.3237, 1.6037, 1.4009, 1.3859, 1.5228, 1.6522, 1.2254, 1.0015, 1.0795, 0.7005, 0.8382, 0.6013, 0.37, 0.4305, 0.9771, 0.2193, 0.8723, 0.069, 0.0671, 1.1011, -0.1376, 0.8409, 0.0048, 2.0608, 2.0592, 2.0592, 2.0589, 2.0569, 2.0566, 2.0565, 2.0564, 2.0564, 2.0552, 2.0548, 2.0546, 2.0535, 2.0534, 2.0521, 2.0521, 2.0515, 2.0515, 2.0513, 2.0506, 2.0503, 2.0499, 2.0494, 2.0494, 2.0491, 2.0487, 2.0485, 2.0484, 2.0482, 2.0478, 2.042, 2.0256, 2.0444, 2.0399, 1.9802, 2.0135, 2.0374, 2.0404, 1.9884, 1.9634, 1.9293, 1.8191, 1.9128, 1.7715, 1.7248, 1.7818, 1.9498, 1.5868, 1.6954, 1.5428, 1.0894, 1.3898, 0.6795, 0.2088, 0.6274, 0.3387, 0.0106, 2.834, 2.8234, 2.815, 2.8138, 2.8136, 2.8135, 2.8134, 2.8114, 2.811, 2.8108, 2.8104, 2.8093, 2.8083, 2.8076, 2.8075, 2.8072, 2.807, 2.807, 2.8058, 2.8045, 2.8037, 2.8033, 2.8023, 2.8021, 2.8016, 2.8008, 2.8004, 2.8003, 2.8003, 2.8002, 2.7985, 2.7904, 2.7906, 2.7994, 2.787, 2.7847, 2.7906, 2.7584, 2.7769, 2.7597, 2.6788, 2.7978, 2.6409, 2.7343, 2.7415, 2.7006, 2.6706, 2.6886, 2.6572, 2.5671, 2.6977, 2.6483, 2.6689, 2.6382, 2.3717, 2.6059, 2.5581, 2.4936, 2.4314, 2.5971, 1.7517, 1.7983, 2.1857, 2.0989, 1.0899, 1.5331, 1.4678, 1.3848, 1.9594, 2.0157, 1.3429, 3.6413, 3.636, 3.632, 3.6259, 3.6256, 3.6235, 3.6218, 3.6202, 3.6184, 3.6162, 3.6157, 3.6146, 3.6127, 3.6119, 3.6093, 3.6091, 3.6086, 3.6049, 3.6018, 3.5971, 3.5927, 3.5921, 3.5902, 3.5901, 3.5896, 3.5891, 3.5871, 3.5853, 3.5851, 3.5827, 3.5788, 3.5352, 3.5814, 3.5617, 3.4965, 3.5168, 3.5242, 3.5337, 3.524, 3.4879, 3.431, 3.4428, 3.2552, 3.3893, 3.4134, 3.2585, 3.0102, 3.3156, 3.294, 2.704, 2.8362, 2.9622, 2.6058, 2.4102, 3.2049, 2.3231, 2.3688, 2.3258, 2.1978, 1.2308, 2.5911, 2.6805, 4.2081, 4.1996, 4.1914, 4.1911, 4.191, 4.1909, 4.1908, 4.1907, 4.1805, 4.175, 4.1736, 4.1655, 4.1654, 4.161, 4.1607, 4.1544, 4.1542, 4.1536, 4.1531, 4.1489, 4.1421, 4.1397, 4.1389, 4.1384, 4.1363, 4.1357, 4.1339, 4.1333, 4.131, 4.1303, 4.1212, 4.1197, 4.1249, 4.0426, 4.0961, 4.0044, 4.07, 3.9256, 3.8785, 3.402, 3.6738, 3.7901, 3.7812, 3.2816, 3.0174, 3.2158, 3.903, 3.1174, 3.4505, 2.4275, 3.4466, 0.6218, 3.1389, 2.287, 4.2187, 4.2118, 4.1991, 4.1956, 4.1919, 4.1855, 4.1842, 4.184, 4.1828, 4.1806, 4.1802, 4.1763, 4.1706, 4.1683, 4.1648, 4.1614, 4.1609, 4.1583, 4.1565, 4.1547, 4.1515, 4.1511, 4.1509, 4.15, 4.1498, 4.1468, 4.144, 4.1436, 4.1431, 4.1412, 4.1329, 4.0973, 4.0826, 4.0317, 3.962, 4.0361, 3.9158, 4.0288, 3.7815, 3.7661, 3.8814, 3.769, 3.8473, 3.3727, 3.6527, 3.4309, 2.9847, 3.4567, 3.8027, 2.2205, 3.6279, 5.2222, 5.1863, 5.1692, 5.1423, 5.1169, 5.1155, 5.1118, 5.1069, 5.1024, 5.0964, 5.096, 5.0938, 5.0884, 5.0864, 5.0751, 5.0737, 5.0705, 5.046, 5.043, 5.0353, 5.0291, 5.0208, 5.0132, 5.0063, 5.0011, 4.9989, 4.9928, 4.9886, 4.9774, 4.9762, 4.8698, 4.851, 4.9325, 4.6158, 4.4815, 4.6566, 4.0521, 4.3837, 3.4229, 3.7831, 4.2708, 3.9004, 2.3288, 3.1852], \"Term\": [\"space\", \"edu\", \"com\", \"file\", \"church\", \"game\", \"entry\", \"output\", \"year\", \"team\", \"nasa\", \"god\", \"don\", \"soon\", \"period\", \"day\", \"games\", \"like\", \"pts\", \"cause\", \"play\", \"season\", \"think\", \"la\", \"running\", \"line\", \"power\", \"health\", \"win\", \"cpu\", \"window\", \"scsi\", \"jesus\", \"server\", \"windows\", \"version\", \"disk\", \"application\", \"display\", \"drives\", \"dos\", \"christ\", \"mit\", \"code\", \"bible\", \"controller\", \"hardware\", \"mb\", \"motif\", \"christians\", \"screen\", \"files\", \"write\", \"keyboard\", \"interface\", \"apple\", \"xt\", \"ide\", \"ram\", \"card\", \"god\", \"drive\", \"problem\", \"mac\", \"software\", \"pc\", \"bus\", \"widget\", \"people\", \"help\", \"does\", \"thanks\", \"work\", \"use\", \"memory\", \"question\", \"support\", \"using\", \"know\", \"want\", \"read\", \"info\", \"set\", \"just\", \"need\", \"like\", \"used\", \"time\", \"don\", \"ve\", \"way\", \"think\", \"program\", \"bit\", \"make\", \"new\", \"edu\", \"good\", \"believe\", \"say\", \"season\", \"players\", \"hockey\", \"league\", \"games\", \"nhl\", \"scored\", \"player\", \"sox\", \"baseball\", \"played\", \"snow\", \"playoffs\", \"goalie\", \"pitching\", \"cubs\", \"braves\", \"mets\", \"coach\", \"yankees\", \"defensive\", \"orioles\", \"era\", \"puck\", \"sharks\", \"majors\", \"milwaukee\", \"score\", \"blues\", \"game\", \"teams\", \"maine\", \"shot\", \"fans\", \"team\", \"predictions\", \"win\", \"hit\", \"year\", \"division\", \"play\", \"won\", \"goal\", \"fan\", \"didn\", \"right\", \"got\", \"good\", \"did\", \"think\", \"like\", \"don\", \"second\", \"just\", \"better\", \"edu\", \"time\", \"bad\", \"know\", \"end\", \"new\", \"orbit\", \"satellite\", \"flight\", \"shuttle\", \"launch\", \"solar\", \"lunar\", \"planetary\", \"spacecraft\", \"km\", \"vehicle\", \"missions\", \"orbital\", \"telescope\", \"satellites\", \"venus\", \"mars\", \"payload\", \"orbiter\", \"probes\", \"astronaut\", \"astronomy\", \"hiv\", \"engines\", \"saturn\", \"hicnet\", \"ultraviolet\", \"ssf\", \"atmosphere\", \"observatory\", \"nasa\", \"mission\", \"ames\", \"probe\", \"space\", \"moon\", \"launched\", \"propulsion\", \"rocket\", \"dc\", \"gov\", \"research\", \"station\", \"earth\", \"center\", \"national\", \"surface\", \"april\", \"technology\", \"university\", \"data\", \"science\", \"years\", \"year\", \"information\", \"program\", \"new\", \"pts\", \"oname\", \"wsh\", \"brind\", \"recchi\", \"fprintf\", \"amour\", \"obfuscated\", \"ioccc\", \"eof\", \"andersson\", \"dineen\", \"mullen\", \"galley\", \"xvoid\", \"cgy\", \"nylander\", \"hfd\", \"unassisted\", \"cassels\", \"noonan\", \"wpg\", \"ronning\", \"noll\", \"cdi\", \"het\", \"hawgood\", \"landon\", \"mkentry\", \"toad\", \"buf\", \"entries\", \"printf\", \"stdin\", \"uuencode\", \"scorer\", \"stderr\", \"pp\", \"edm\", \"nyr\", \"entry\", \"utica\", \"output\", \"io\", \"filename\", \"stream\", \"van\", \"contest\", \"pt\", \"la\", \"nyi\", \"chi\", \"remark\", \"stl\", \"period\", \"det\", \"char\", \"gm\", \"rules\", \"pit\", \"com\", \"file\", \"vs\", \"build\", \"edu\", \"power\", \"line\", \"play\", \"section\", \"ok\", \"st\", \"msg\", \"jb\", \"corn\", \"kirlian\", \"glutamate\", \"diet\", \"sugar\", \"barrier\", \"restaurant\", \"seizures\", \"fat\", \"seizure\", \"foods\", \"cereals\", \"endometriosis\", \"aspartame\", \"placebo\", \"food\", \"flavor\", \"amino\", \"hernia\", \"organism\", \"phenylalanine\", \"calcium\", \"restaurants\", \"roth\", \"methanol\", \"ingredients\", \"meal\", \"acids\", \"fever\", \"libxmu\", \"intake\", \"doses\", \"xmu\", \"eating\", \"kidney\", \"gr\", \"photography\", \"tobacco\", \"diseases\", \"acid\", \"eat\", \"taste\", \"infections\", \"brain\", \"disease\", \"chinese\", \"vitamin\", \"health\", \"patients\", \"blood\", \"lib\", \"cause\", \"reaction\", \"medical\", \"doctor\", \"effect\", \"common\", \"day\", \"medicine\", \"doug\", \"candida\", \"yeast\", \"dsl\", \"shameful\", \"jxp\", \"geb\", \"cadre\", \"chastity\", \"quack\", \"intellect\", \"surrender\", \"bone\", \"systemic\", \"skepticism\", \"albicans\", \"fungus\", \"mucus\", \"tinnitus\", \"inflammatory\", \"migraines\", \"thrush\", \"qi\", \"sinuses\", \"sporanox\", \"nystatin\", \"migraine\", \"quacks\", \"therapies\", \"vaginal\", \"membrane\", \"gordon\", \"pitt\", \"antibiotics\", \"banks\", \"sinus\", \"physician\", \"dyer\", \"chronic\", \"immune\", \"patients\", \"patient\", \"infection\", \"init\", \"pain\", \"soon\", \"treatment\", \"physicians\", \"medicine\", \"doctors\", \"medical\", \"skin\", \"edu\", \"symptoms\", \"disease\", \"pope\", \"schism\", \"archbishop\", \"bishop\", \"schismatic\", \"myhint\", \"coptic\", \"bishops\", \"jurisdiction\", \"gospels\", \"cmap\", \"rome\", \"sspx\", \"papal\", \"excommunication\", \"heresy\", \"drawindex\", \"excommunicated\", \"consecration\", \"refusal\", \"heretical\", \"deity\", \"vatican\", \"serbs\", \"infallibility\", \"creed\", \"pius\", \"tomb\", \"constantinople\", \"carnegie\", \"catholics\", \"orthodox\", \"mydisplay\", \"catholic\", \"church\", \"canon\", \"churches\", \"disobedience\", \"divine\", \"doctrine\", \"saint\", \"gc\", \"council\", \"holy\", \"dpy\", \"authority\", \"son\", \"tradition\", \"essence\", \"main\", \"lefebvre\", \"lssu\", \"stormed\", \"mod\", \"ik\", \"maria\", \"dominating\", \"capslock\", \"kekule\", \"davewood\", \"daystar\", \"carpal\", \"gilkey\", \"xlock\", \"datahand\", \"gl\", \"xmdrawingarea\", \"occupational\", \"kinesis\", \"maltron\", \"adjustable\", \"ial\", \"kssimon\", \"cnn\", \"tendonitis\", \"bending\", \"bla\", \"tunnel\", \"tartaric\", \"liverpool\", \"badpixmap\", \"highlighting\", \"numlock\", \"qwerty\", \"belonged\", \"thirty\", \"rex\", \"dma\", \"wrist\", \"cpu\", \"mask\", \"indiana\", \"sgi\", \"cache\", \"iisi\"], \"Total\": [1043.0, 1324.0, 785.0, 667.0, 284.0, 699.0, 421.0, 371.0, 1058.0, 621.0, 440.0, 1072.0, 1389.0, 208.0, 359.0, 451.0, 434.0, 1644.0, 239.0, 225.0, 449.0, 377.0, 1159.0, 270.0, 317.0, 430.0, 466.0, 220.0, 409.0, 122.0, 628.3907394306941, 582.7375595853604, 448.7346922835785, 413.81967037589834, 377.90307639260436, 347.6959969831613, 384.1211025728704, 310.4295260075529, 304.18330237454626, 285.9234362181611, 268.57424215795885, 269.9485290660319, 276.70367683613847, 265.0406936633491, 253.38506885607228, 252.13173072882816, 256.2887510699833, 492.5908447377099, 357.48783406497006, 238.303956218525, 240.9799671869921, 265.5733508223676, 215.21540446192265, 218.28750208225952, 212.2805812126478, 311.2645939561421, 201.7004712719659, 196.83746666215902, 205.69887308225353, 414.3451018781186, 1072.3679013591736, 743.0650196745154, 754.8342019949447, 424.43708507402954, 436.1321734057349, 325.20350204172433, 261.23563298992406, 333.1528896533514, 1077.4374782491125, 504.883624601345, 1203.136736302073, 619.9271060954142, 704.4472287942498, 1318.1875205069368, 337.93129143219187, 447.8475093058165, 340.57000117847605, 625.2169607730578, 1338.047670967998, 662.2061145122306, 501.6214080832353, 410.83356900841267, 513.0420212960213, 1477.6899911506725, 662.3918631726441, 1644.594047237035, 620.6831301479425, 1241.8817904941623, 1389.4992788197708, 676.7452572433835, 786.8890138421486, 1159.320015109144, 746.6937136605741, 583.3248136671482, 728.9545690753761, 1047.8982054450976, 1324.5209742476484, 1011.1563142335975, 559.895825160607, 615.2740190198308, 377.0272622931497, 294.3248735632985, 278.76459678537805, 260.5555992034392, 434.28179366785895, 176.40479455018976, 148.27237755537203, 171.91413204335103, 131.7142663667411, 142.5580806768898, 123.66204678565987, 109.81215568160977, 103.57285470202297, 96.63468333889669, 90.69531989475895, 88.43267574361357, 80.25573635773415, 83.04361065368747, 85.81639447782891, 77.23591269395894, 65.3902698655001, 64.12737228800971, 65.78072882916132, 139.45548746293355, 59.44076729048252, 58.8771015197316, 60.55347169470789, 76.07563338748261, 59.024650168775196, 699.767008533294, 195.47322066161306, 126.15645849315447, 110.25456452720108, 106.21239425955048, 621.2118634157001, 85.36986963388846, 409.5726190523402, 232.45669691679763, 1058.1302802947018, 188.1135376449449, 449.8366490594454, 411.0280689226641, 225.97994872287902, 123.14924811553384, 485.57228960490164, 697.7805184115643, 567.3638615369974, 1011.1563142335975, 714.9200972864786, 1159.320015109144, 1644.594047237035, 1389.4992788197708, 492.0121351979535, 1477.6899911506725, 531.3432976136363, 1324.5209742476484, 1241.8817904941623, 336.22301423266435, 1338.047670967998, 445.6575394775705, 1047.8982054450976, 226.0416177524475, 178.58453747670006, 125.7343565541615, 196.56511667946847, 262.101712861965, 114.24706064208245, 175.4330942461294, 88.40543855419892, 118.16957904809715, 78.0799592002995, 88.18288533860861, 87.59261410354516, 78.78533933766576, 64.2792367100219, 88.31700476225994, 61.16885766379343, 127.81975771183176, 53.59891942515747, 54.1056761064222, 51.07176102696608, 53.219255947741615, 67.50416576876754, 124.2754655991188, 46.17889299928071, 49.8807890712477, 56.03634481025608, 44.586403629621636, 45.831420369004384, 57.81743257794547, 43.728178654735885, 440.45629137284556, 161.42972723941483, 62.24202822730582, 77.26244041527237, 1043.5685634507006, 176.6284203540433, 71.83255969048525, 65.97831102175077, 114.204092184619, 142.07599816961843, 145.74653611096443, 286.50021185094084, 150.6417459657568, 285.5744827303724, 310.6028825567061, 225.0806736799439, 96.18309525855403, 284.2777125352451, 200.80038011606393, 248.41598953096678, 572.8889590262993, 273.90866834047625, 567.9195857967317, 1058.1302802947018, 604.4872848658913, 746.6937136605741, 1047.8982054450976, 239.12042640499914, 124.0597311254824, 37.52530067583442, 39.718262361003596, 55.67072088178793, 90.9992702364338, 41.24110855014049, 61.82326896531172, 61.80481031718293, 124.69352556462968, 28.541852411517638, 40.58775189302512, 26.573494314634875, 35.23137460581762, 44.345947666782514, 27.23440899994653, 26.027971368791444, 26.908556311482343, 24.475771301728418, 23.897764913270702, 27.421770727134906, 23.398704335072477, 22.489269384246604, 35.36158256249347, 24.438185502568704, 22.685036319955284, 24.633548046599856, 37.167268878667024, 34.92510417032607, 28.982866586451703, 179.8735187589006, 149.6228563228172, 131.93525204413413, 38.15717670142615, 79.95923012120862, 87.4334904374507, 56.16298883504242, 146.7196598002285, 66.50287527960951, 85.90445272512157, 421.6178172025832, 32.12311384536655, 371.60689177360894, 83.33051158969597, 72.37758715818636, 113.21598575982631, 148.49149608646823, 113.45043308256639, 142.78101591195832, 270.83895743696644, 83.52505221261634, 113.57428907308169, 95.34138146321826, 100.97360523617097, 359.3937943167642, 113.59157033900439, 135.1627656661404, 159.48835240044323, 192.17641425990607, 111.29260343307195, 785.2805883417914, 667.509783706887, 222.4890563946082, 255.1250625814216, 1324.5209742476484, 466.5235537360697, 430.81709145323407, 449.8366490594454, 225.87601273922567, 211.03440488258434, 418.6350578529077, 129.62499625154686, 30.661705382029904, 27.337155921094197, 22.93528100259575, 22.67610701634965, 62.7146097145691, 21.06031072126414, 19.910188924210996, 24.36156036158913, 21.7893654674723, 29.875810017100513, 17.43835961902156, 47.28716535846899, 16.063714729498795, 16.48069819011553, 15.87593938821911, 22.021279620864266, 145.76871725035093, 14.77169667585175, 12.722973449777802, 11.625571145584683, 16.29850189968463, 11.284482371771125, 11.18975366952342, 12.893419414531508, 11.051444938336886, 11.337055872482209, 11.330176791823087, 12.514452324551202, 13.203551817709576, 17.962988817978108, 51.65026108423138, 13.665006604986198, 18.621612573078988, 53.212449534213896, 38.333873112568845, 33.56401911673208, 26.869467259139693, 27.91716298368691, 40.027701970017525, 66.97231764925779, 40.283409304102136, 70.46298421573808, 38.49508949861158, 33.261449777365044, 58.87068181850646, 144.46255503340217, 47.34057402818372, 43.12271001213659, 220.12371340626927, 144.5570749459484, 101.37855136067526, 160.9863633217707, 225.73264263746688, 48.90811525383378, 208.77393905154312, 128.3932522727401, 135.77966720660487, 155.5775419320037, 451.02552533062754, 90.78130678804108, 78.21792626506922, 56.33302804764228, 36.191863592091295, 60.012195680141495, 60.01585080606801, 60.57682287267743, 63.197165668170506, 60.01851287103955, 60.57938296174379, 19.63208166270236, 62.71628355988073, 61.05440762891995, 14.450991680462613, 14.31277842312579, 70.05349582759439, 13.232995263541534, 15.766562486465304, 11.923432276841197, 12.720105831434052, 14.073478170734306, 11.74152137301582, 10.171148497472807, 11.509388330321022, 10.030238190667859, 10.45948306199192, 9.60838021662618, 20.538466767133308, 9.425226592856381, 17.222620134086053, 9.69991119491655, 8.92811820768693, 82.65590646696279, 85.61572893253006, 16.520402057311646, 81.65999390747747, 16.014588674484564, 28.634237252230527, 17.49588036117155, 33.81031629510071, 32.03810444532387, 144.5570749459484, 56.76933332143392, 39.255856822217176, 37.46868749789174, 129.62147094955782, 208.8916639535745, 94.39394828215089, 23.986869441476088, 90.78130678804108, 47.615667702518884, 208.77393905154312, 45.696951314033925, 1324.5209742476484, 59.08837597376956, 144.46255503340217, 74.63929530887486, 37.861461358653294, 24.01112428152758, 26.8716424117465, 19.763667392669433, 17.24681466126177, 16.807944653716095, 16.535456529687877, 16.5614574853058, 16.5368268071168, 19.849688445938696, 19.360375660707312, 13.169963943710986, 12.698859398071399, 12.068960980793271, 12.50566942904613, 11.369572996888506, 11.583780303016507, 10.729887685796598, 10.418338324285783, 10.41526404710528, 15.038252945683507, 10.047797360167568, 10.136247616306534, 9.966290292982722, 24.661875514922933, 9.303954130735193, 28.30488923558392, 9.199488233007024, 9.91610263297035, 24.593712355729, 46.59662692412162, 41.526864726465945, 90.82659762809352, 284.0177517409637, 34.07064576184504, 40.45468336181336, 18.085097892778975, 47.67542580986885, 45.2979177492757, 29.425917428828186, 38.70549892504668, 29.874855970231298, 104.28871239965682, 47.98163777615769, 82.03803634742037, 138.1097013203456, 44.137331723000294, 26.610126088264632, 162.6019431684221, 29.589415520397154, 83.86985911904863, 12.891646008384537, 8.43058145830612, 6.823773203681381, 16.716569696503374, 13.143978674019586, 5.517161533511903, 5.38487852735403, 5.261450435717753, 5.213172567617464, 5.781837802247231, 5.017822660350174, 4.867476691780182, 6.154087542932172, 24.131029745838795, 4.567140338296854, 5.847234139591111, 5.132203708801824, 6.059069374888183, 4.137945163590299, 3.93255488165022, 3.793289306854293, 5.126254392799078, 3.719884873291167, 3.73404384807893, 3.4739438304682158, 4.104797037025275, 3.4011881903174404, 3.4409742490794866, 3.229993331414616, 15.701096594972018, 12.91529003367339, 4.787712563886154, 17.134779686216312, 21.82154997134662, 9.864387615961087, 47.70036759057437, 15.854255575173653, 122.61601000081976, 53.674097132264016, 14.389129701245123, 23.560104945014007, 95.82190808770874, 34.99145018607467], \"logprob\": [30.0, 29.0, 28.0, 27.0, 26.0, 25.0, 24.0, 23.0, 22.0, 21.0, 20.0, 19.0, 18.0, 17.0, 16.0, 15.0, 14.0, 13.0, 12.0, 11.0, 10.0, 9.0, 8.0, 7.0, 6.0, 5.0, 4.0, 3.0, 2.0, 1.0, -5.9094, -5.985, -6.2467, -6.3278, -6.4188, -6.5023, -6.4028, -6.6158, -6.6362, -6.6984, -6.761, -6.756, -6.7313, -6.7744, -6.8194, -6.8244, -6.8081, -6.1547, -6.4754, -6.881, -6.87, -6.773, -6.9833, -6.9692, -6.9971, -6.6144, -7.0483, -7.0729, -7.0289, -6.3286, -5.3816, -5.7449, -5.733, -6.3063, -6.2821, -6.5734, -6.7912, -6.5557, -5.4276, -6.1577, -5.3281, -5.9613, -5.8466, -5.2681, -6.5467, -6.2885, -6.542, -5.996, -5.3231, -5.9554, -6.2015, -6.3749, -6.1864, -5.3022, -5.9816, -5.2536, -6.0491, -5.5183, -5.4512, -5.9845, -5.8918, -5.6846, -5.9674, -6.1181, -6.0004, -5.831, -5.764, -5.8834, -6.1508, -6.1475, -5.2019, -5.4504, -5.505, -5.5726, -5.063, -5.9643, -6.1382, -5.9903, -6.2573, -6.1791, -6.3214, -6.4407, -6.4994, -6.5693, -6.6331, -6.6586, -6.7565, -6.7224, -6.6895, -6.7952, -6.9636, -6.9832, -6.9585, -6.2072, -7.0602, -7.0698, -7.0418, -6.8137, -7.0676, -4.5949, -5.8724, -6.3085, -6.4485, -6.4865, -4.7565, -6.7086, -5.2742, -5.8071, -4.6035, -6.0508, -5.3817, -5.4869, -5.9483, -6.426, -5.4808, -5.3421, -5.471, -5.2722, -5.4812, -5.2346, -5.1162, -5.2243, -5.7159, -5.374, -5.7438, -5.6337, -5.7001, -5.9726, -5.8302, -5.9511, -5.9322, -5.41, -5.6472, -5.9982, -5.5516, -5.2659, -6.0965, -5.6677, -6.3532, -6.063, -6.4786, -6.3573, -6.3643, -6.4713, -6.6748, -6.3584, -6.7258, -5.9894, -6.8585, -6.8493, -6.9077, -6.8668, -6.6294, -6.0196, -7.0096, -6.9328, -6.8168, -7.0456, -7.0181, -6.7861, -7.0657, -4.7617, -5.7819, -6.716, -6.5044, -3.9609, -5.704, -6.5798, -6.6617, -6.1651, -5.9718, -5.9803, -5.4147, -5.9638, -5.4655, -5.4282, -5.6933, -6.3754, -5.6547, -5.8938, -5.8336, -5.4514, -5.8889, -5.87, -5.7184, -5.8598, -5.9372, -5.9264, -4.5806, -5.2474, -6.4515, -6.3959, -6.0584, -5.5672, -6.3587, -5.9558, -5.9565, -5.2548, -6.7298, -6.3787, -6.8033, -6.5219, -6.292, -6.7799, -6.8254, -6.7921, -6.888, -6.9132, -6.7765, -6.9356, -6.9761, -6.5238, -6.8938, -6.969, -6.887, -6.4758, -6.538, -6.7246, -4.9007, -5.093, -5.2186, -6.4504, -5.723, -5.636, -6.0727, -5.1446, -5.9174, -5.6786, -4.1686, -6.6241, -4.3327, -5.7344, -5.8682, -5.4616, -5.2204, -5.4716, -5.273, -4.7229, -5.7687, -5.5108, -5.6652, -5.6384, -4.6354, -5.553, -5.4269, -5.326, -5.2017, -5.5822, -4.4738, -4.5896, -5.301, -5.2509, -4.6128, -5.2131, -5.3581, -5.3978, -5.5122, -5.5238, -5.5116, -4.3856, -5.8325, -5.9513, -6.1329, -6.1446, -5.1294, -6.2223, -6.2801, -6.0801, -6.1939, -5.8788, -6.4182, -5.4226, -6.5031, -6.4801, -6.5176, -6.1909, -4.3046, -6.597, -6.751, -6.8456, -6.5083, -6.8778, -6.8865, -6.7452, -6.8999, -6.8763, -6.8787, -6.7796, -6.7283, -6.4244, -5.4118, -6.6953, -6.4055, -5.4207, -5.7283, -5.8539, -6.0669, -6.0382, -5.7141, -5.2562, -5.7528, -5.3813, -5.8517, -5.9737, -5.5576, -4.9083, -5.7185, -5.8335, -4.7933, -5.0817, -5.3104, -5.2044, -5.062, -5.7966, -5.2272, -5.6677, -5.6547, -5.6466, -5.5492, -5.7919, -5.8516, -4.6521, -5.1031, -4.6056, -4.6058, -4.5966, -4.5543, -4.606, -4.5968, -5.7339, -4.5779, -4.6062, -6.0553, -6.065, -4.4813, -6.1481, -5.9792, -6.2588, -6.1947, -6.0941, -6.2794, -6.4299, -6.3086, -6.447, -6.4056, -6.4925, -5.7335, -6.5142, -5.9119, -6.4884, -6.572, -4.3556, -4.322, -5.962, -4.4463, -6.0219, -5.5325, -5.9595, -5.4451, -5.5461, -4.5159, -5.1787, -5.4313, -5.4868, -4.7453, -4.5323, -5.1282, -5.811, -5.2657, -5.5778, -5.1228, -5.6229, -5.0809, -5.6736, -5.6315, -4.3601, -5.0458, -5.5139, -5.4048, -5.7157, -5.8584, -5.8855, -5.902, -5.9017, -5.9054, -5.7231, -5.752, -6.143, -6.1817, -6.236, -6.2039, -6.2997, -6.2836, -6.362, -6.3933, -6.3967, -6.0298, -6.4333, -6.4254, -6.4425, -5.5395, -6.517, -5.4049, -6.5293, -6.4562, -5.5562, -4.9527, -5.0826, -4.3509, -3.2805, -5.327, -5.2755, -5.9677, -5.2456, -5.3122, -5.6282, -5.4665, -5.6472, -4.8717, -5.368, -5.0534, -4.9787, -5.6476, -5.8076, -5.5797, -5.8762, -3.2401, -5.1487, -5.5904, -5.8288, -4.9582, -5.2001, -6.0718, -6.101, -6.1287, -6.144, -6.0408, -6.1847, -6.2205, -5.988, -4.6329, -6.299, -6.0551, -6.21, -6.0469, -6.436, -6.4931, -6.5375, -6.244, -6.5715, -6.5729, -6.6474, -6.4865, -6.6788, -6.6784, -6.7428, -5.268, -5.4821, -6.393, -5.4346, -5.3271, -5.946, -4.9745, -5.7444, -4.6595, -5.1255, -5.9542, -5.8315, -6.0002, -6.1513]}, \"lambda.step\": 0.01, \"mdsDat\": {\"Freq\": [58.26103870604381, 17.212012391275323, 12.668167130326168, 5.858377015978455, 2.569857107474901, 1.4667097436328749, 1.4510070288050738, 0.5128308764633914], \"y\": [-303.97650146484375, 313.8222351074219, 336.9173889160156, 17.319059371948242, 79.45267486572266, -188.07618713378906, -212.40121459960938, 101.56163787841797], \"cluster\": [1, 1, 1, 1, 1, 1, 1, 1], \"topics\": [1, 2, 3, 4, 5, 6, 7, 8], \"x\": [3.161149740219116, -124.60707092285156, 168.62100219726562, 0.7584726214408875, 307.3794860839844, -266.1766357421875, 283.5111389160156, -326.1809997558594]}, \"R\": 30, \"topic.order\": [2, 3, 7, 5, 4, 6, 8, 1], \"token.table\": {\"Topic\": [1, 3, 5, 5, 8, 6, 1, 3, 5, 4, 4, 1, 6, 1, 1, 1, 2, 3, 4, 7, 5, 3, 3, 3, 1, 3, 7, 1, 2, 5, 8, 1, 2, 6, 5, 2, 1, 2, 5, 2, 3, 8, 8, 1, 2, 3, 5, 1, 7, 7, 1, 2, 8, 1, 5, 6, 2, 6, 1, 2, 5, 2, 4, 1, 2, 4, 1, 2, 3, 4, 5, 1, 1, 8, 1, 6, 5, 6, 1, 7, 8, 1, 2, 7, 8, 4, 1, 7, 1, 7, 1, 2, 5, 4, 1, 2, 3, 5, 4, 1, 4, 1, 6, 2, 4, 1, 5, 1, 1, 1, 6, 1, 7, 1, 7, 7, 8, 2, 1, 1, 2, 3, 4, 5, 1, 3, 5, 7, 7, 1, 2, 4, 1, 7, 5, 1, 2, 7, 1, 8, 1, 7, 2, 1, 3, 8, 8, 1, 2, 5, 8, 1, 3, 5, 2, 1, 7, 2, 4, 1, 2, 3, 7, 1, 2, 3, 1, 5, 4, 1, 3, 5, 6, 1, 3, 5, 1, 1, 7, 1, 1, 7, 1, 2, 3, 4, 1, 8, 1, 5, 6, 1, 6, 1, 7, 1, 2, 7, 2, 8, 1, 2, 3, 5, 1, 1, 5, 1, 2, 4, 5, 1, 7, 7, 1, 2, 1, 1, 6, 5, 6, 1, 3, 1, 5, 1, 5, 2, 4, 1, 2, 3, 4, 6, 1, 2, 5, 1, 2, 3, 5, 3, 1, 4, 1, 2, 3, 4, 1, 4, 2, 1, 7, 7, 7, 1, 2, 1, 2, 1, 5, 1, 5, 1, 2, 4, 1, 4, 1, 5, 3, 1, 5, 1, 5, 1, 4, 6, 4, 1, 2, 4, 1, 2, 1, 7, 1, 6, 8, 1, 8, 5, 2, 3, 4, 1, 2, 3, 4, 2, 1, 7, 1, 2, 3, 5, 1, 6, 7, 1, 2, 3, 1, 3, 5, 1, 5, 1, 4, 1, 3, 5, 1, 2, 7, 7, 5, 4, 4, 3, 1, 2, 8, 1, 2, 1, 3, 2, 1, 7, 8, 1, 1, 8, 8, 1, 5, 6, 1, 8, 7, 1, 3, 5, 6, 1, 3, 5, 6, 6, 1, 2, 3, 1, 2, 3, 4, 5, 1, 6, 5, 1, 6, 1, 1, 3, 4, 1, 4, 5, 1, 7, 1, 2, 3, 5, 1, 6, 8, 1, 1, 5, 8, 5, 3, 1, 2, 3, 5, 8, 1, 2, 3, 4, 5, 1, 4, 1, 3, 1, 2, 3, 2, 2, 4, 7, 1, 5, 1, 5, 1, 2, 3, 5, 1, 2, 4, 8, 2, 8, 1, 3, 1, 2, 7, 1, 2, 3, 7, 2, 8, 2, 1, 2, 3, 5, 1, 8, 1, 3, 8, 1, 3, 1, 2, 8, 1, 2, 5, 1, 2, 3, 5, 6, 1, 3, 5, 6, 6, 1, 2, 5, 2, 1, 6, 6, 2, 1, 3, 3, 1, 1, 4, 8, 1, 3, 1, 1, 5, 6, 4, 5, 7, 7, 1, 3, 5, 1, 2, 3, 1, 2, 3, 1, 2, 3, 4, 2, 1, 4, 4, 1, 8, 2, 4, 4, 2, 4, 6, 1, 4, 3, 8, 1, 2, 4, 1, 4, 1, 3, 3, 3, 5, 2, 1, 7, 1, 2, 4, 1, 6, 7, 1, 6, 1, 5, 6, 3, 1, 3, 1, 2, 3, 6, 1, 2, 3, 4, 5, 1, 3, 5, 1, 6, 1, 6, 1, 2, 4, 2, 1, 2, 6, 7, 5, 3, 1, 2, 4, 2, 2, 2, 2, 7, 1, 2, 3, 4, 1, 3, 4, 1, 2, 1, 4, 1, 3, 3, 1, 2, 5, 1, 3, 4, 1, 3, 2, 4, 4, 2, 4, 6, 6, 6, 1, 2, 1, 8, 1, 1, 3, 5, 1, 2, 4, 2, 4, 7, 1, 2, 4, 1, 2, 3, 5, 6, 5, 5, 1, 8, 1, 2, 3, 1, 2, 3, 6, 7, 4, 5, 1, 2, 4, 1, 2, 8, 1, 2, 7, 1, 3, 1, 3, 3, 1, 2, 5, 7, 7, 1, 3, 2, 2, 2, 4, 1, 1, 2, 1, 2, 3, 4, 1, 2, 3, 4, 5, 5, 7, 1, 1, 2, 1, 8, 1, 6, 2, 1, 2, 4, 1, 3, 1, 6, 6, 1, 6, 1, 2, 5, 6, 2, 1, 3, 3, 1, 7, 1, 2, 6, 2, 1, 3, 3, 6, 3, 7, 1, 2, 3, 4, 1, 2, 3, 1, 4, 1, 4, 2, 4, 8, 1, 4, 5, 1, 2, 3, 1, 3, 1, 6, 1, 5, 6, 6, 8, 1, 5, 1, 2, 3, 4, 2, 3, 1, 3, 3, 8, 1, 2, 1, 6, 1, 2, 3, 5, 2, 3, 8, 6, 1, 2, 3, 5, 6, 4, 1, 3, 5, 1, 7, 1, 2, 7, 1, 5, 6, 8, 3, 4, 1, 2, 3, 7, 1, 2, 3, 5, 1, 2, 3, 1, 2, 3, 5, 2, 4, 1, 4, 6, 1, 2, 3, 4, 7, 1, 2, 3, 5, 3, 3, 1, 1, 5, 6, 1, 2, 4, 1, 2, 3, 1, 2, 3, 1, 6, 1, 2, 1, 1, 1, 2, 1, 2, 3, 6, 4, 1, 2, 8, 1, 4, 8, 8, 1, 5, 1, 1, 4, 2, 1, 2, 3, 4, 1, 2, 3, 5, 6], \"Freq\": [0.09929646147384731, 0.07447234610538549, 0.7943716917907785, 0.9088463593489077, 0.7249975244710691, 0.906824174044815, 0.016066314490074667, 0.9800451838945548, 0.9431757479781246, 0.9699060332330407, 0.9810155135095933, 0.060531214466261564, 0.9079682169939235, 0.9959372380261139, 0.9986163493754056, 0.0633183651277915, 0.25679114746271, 0.6191129034717392, 0.05980067817624753, 0.9578893403877192, 0.9448259805735268, 0.9770899475006029, 0.9777174378553172, 0.9858618319510563, 0.49976817858450867, 0.04875787108141548, 0.45101030750309323, 0.47587462257798013, 0.5175136520535534, 0.002974216391112376, 0.6191963248184401, 0.1102130868414856, 0.04898359415177138, 0.8327211005801135, 0.9542852693324172, 0.9960852399650729, 0.8805209430854073, 0.11787907148810725, 0.0017860465376985948, 0.29180416040143997, 0.17508249624086397, 0.525247488722592, 0.8034185248101527, 0.5721348163519174, 0.41216291046404574, 0.005646067266630764, 0.011292134533261527, 0.998480301709131, 0.9675627414807562, 0.9676176748596862, 0.8725841727872067, 0.1251446848987546, 0.8635718210779655, 0.3353766604835172, 0.49320097129929, 0.1578243108157728, 0.9826403008599744, 0.9687916448618303, 0.28876852577331485, 0.03397276773803704, 0.6624689708917223, 0.9843533133614675, 0.9819160678663323, 0.01667838612764978, 0.01667838612764978, 0.9617869333611373, 0.47035755243255545, 0.0039196462702712955, 0.03527681643244166, 0.47819684497309806, 0.011758938810813887, 0.9952700442287223, 0.939242411219992, 0.05218013395666622, 0.016661525788695862, 0.96636849574436, 0.8936747220125274, 0.9940882274718016, 0.14675389585950815, 0.8218218168132456, 0.9062631154859974, 0.9967536677228194, 0.0024134471373433884, 0.9076146479238352, 0.8647769396188607, 0.9624331013160079, 0.1761598520459281, 0.8147393157124175, 0.08132159842611596, 0.8945375826872756, 0.7043730943927262, 0.008860038923178947, 0.28795126500331575, 0.9820696384139221, 0.0643909027352592, 0.22214861443664424, 0.7115194752246142, 0.933781522679469, 0.9546746544068956, 0.23675159236562082, 0.7546457006654164, 0.016507266187103714, 0.973928705039119, 0.16729138394847504, 0.8276521100608765, 0.2746058801961418, 0.7181999943591401, 0.9964862595498719, 0.9987245020042963, 0.2366141721412775, 0.7394192879414923, 0.2359007477149064, 0.7640367500617118, 0.24719016857858692, 0.7168514888779021, 0.9571938648683151, 0.7802968197635405, 0.9904867306206878, 0.9960734570644048, 0.5845044520573599, 0.07258552019012966, 0.0025468603575484095, 0.3374589973751642, 0.0025468603575484095, 0.7520365635493567, 0.012855325872638575, 0.23139586570749435, 0.9319762044888161, 0.8696135912535485, 0.09695864265228916, 0.035257688237196064, 0.8638133618113035, 0.9955113514449105, 0.9519307880670903, 0.9876667520912796, 0.267783717785002, 0.03347296472312525, 0.669459294462505, 0.840020809674947, 0.15495529498858243, 0.040548416497962564, 0.9326135794531389, 0.9951072865320959, 0.6214118711679645, 0.3770364162142706, 0.812468130347347, 0.7602466370956757, 0.7383174150861903, 0.1707220449298398, 0.08868677658692978, 0.7672870882592112, 0.08446183841463296, 0.9009262764227516, 0.007038486534552747, 0.994031682904768, 0.06649708603864349, 0.9309592045410088, 0.20247981369883747, 0.7923123144737118, 0.5944720278715238, 0.39864594810208065, 0.0041962731379166385, 0.0027975154252777587, 0.40982569281686454, 0.5869362937326954, 0.004118851184089091, 0.03189049583665645, 0.9567148750996934, 0.9608810091968171, 0.23535510632591697, 0.0969109261342011, 0.5191656757189345, 0.14536638920130165, 0.029863084781898162, 0.1642469663004399, 0.7913717467203013, 0.9970813824979643, 0.16588243081602788, 0.8294121540801394, 0.9961099035834345, 0.35657783252522074, 0.629254998573919, 0.015947815545643257, 0.8558661009495214, 0.12226658584993162, 0.005315938515214418, 0.6918185680087049, 0.2934987864279354, 0.5763542763353722, 0.27259999556402736, 0.14019428343292836, 0.5250372662248206, 0.46203279427784216, 0.3532171189095295, 0.6181299580916766, 0.9325623315671896, 0.06566169714243135, 0.0008311607233219158, 0.07608046427955655, 0.8368851070751219, 0.7139262431590441, 0.26484360633319376, 0.0021590511385858185, 0.01799209282154849, 0.997861886704604, 0.053701042059358835, 0.9129177150091001, 0.23012627487720153, 0.25569586097466834, 0.12784793048733417, 0.3707589984132691, 0.41682612196989444, 0.5627152646593575, 0.9674945578880011, 0.9958751662460736, 0.00403733175505165, 0.9967703374358704, 0.016663279666184715, 0.9664702206387135, 0.11431262438434261, 0.8573446828825696, 0.2521233665963756, 0.7458649595142778, 0.3264125165289678, 0.6670168816026733, 0.13043294595662988, 0.8608574433137574, 0.045110831484903205, 0.9473274611829674, 0.548122690478632, 0.18421754335645485, 0.0656841240656212, 0.17440267424320113, 0.02717963754439498, 0.6333790748591304, 0.10310822148869565, 0.2651354266852174, 0.5362862261461385, 0.3994098253305969, 0.06282851184975681, 0.9708326562036169, 0.9744711723752435, 0.04010082515103684, 0.9557363327663781, 0.13044989503746007, 0.011859081367041825, 0.004743632546816729, 0.8538538584270113, 0.024058987717410198, 0.970379171268878, 0.9881313441936932, 0.3006374330382482, 0.6388545452062774, 0.9496036451188145, 0.9114289140138548, 0.09744273865758454, 0.901345332582657, 0.009415097051256626, 0.9791700933306892, 0.033471895805590325, 0.9706849783621193, 0.05567002296406032, 0.9463903903890254, 0.6142232069216184, 0.031460213037448746, 0.3535528703256145, 0.08289859106364755, 0.9118845017001231, 0.9978410829980034, 0.9477584266191106, 0.9941594598780552, 0.04802127734977477, 0.9467051820384169, 0.04229477459345755, 0.9516324283527948, 0.010989099114770981, 0.9780298212146173, 0.9513804935525195, 0.9650489196179621, 0.0028580941593573895, 0.9860424849782994, 0.010003329557750863, 0.0023026523666907516, 0.9947458224104047, 0.3617057107857218, 0.620066932775523, 0.01582349444673994, 0.9652331612511363, 0.797158502951329, 0.1657616787236263, 0.8288083936181315, 0.9701841671561097, 0.23826191335019645, 0.05016040281056767, 0.7085156896992684, 0.05310205647809795, 0.7876805044251196, 0.07080274197079726, 0.08407825609032175, 0.9934321372309891, 0.9921967998589218, 0.007460126314728735, 0.6368946036677995, 0.34712733833446835, 0.014834501638225143, 0.0009889667758816762, 0.08468844271640612, 0.9073761719614941, 0.967537495955042, 0.4917479221256439, 0.5058482209679562, 0.001762537355289046, 0.10977962445583178, 0.8713757691181647, 0.013722453056978973, 0.11165089248204373, 0.8932071398563498, 0.9949714879619068, 0.9742810883190128, 0.16808729703605943, 0.4452041921495628, 0.38614649319094735, 0.9705206826363262, 0.029709816815397742, 0.9595647852427921, 0.9601292828269011, 0.9461900720617695, 0.9698022824255882, 0.9662354122248228, 0.9815058456477624, 0.1273796379700296, 0.19106945695504438, 0.636898189850148, 0.11184878880605485, 0.8818846809708171, 0.008046640543079894, 0.981690146255747, 0.9972571955183868, 0.5753259256866369, 0.421905678836867, 0.7628628436944047, 0.9957453899587297, 0.857352291501737, 0.11431363886689826, 0.8792789298394382, 0.06242566576974596, 0.21848983019411086, 0.7178951563520786, 0.5559752511861605, 0.3474845319913503, 0.9030441353225395, 0.12736952915444222, 0.07642171749266533, 0.12736952915444222, 0.6368476457722111, 0.06012967003503956, 0.09019450505255934, 0.7816857104555143, 0.06012967003503956, 0.9237233214340292, 0.9590258190219408, 0.0024340756827968043, 0.03651113524195206, 0.7394696483966066, 0.01488865063885785, 0.23656411570629696, 0.00827147257714325, 0.9708586372578605, 0.34695637525951434, 0.6405348466329495, 0.9513350688946213, 0.03188964470591477, 0.9566893411774431, 0.9939675065645076, 0.07200243806905796, 0.024000812689685982, 0.9000304758632244, 0.01617997037557416, 0.9707982225344496, 0.9784191592155304, 0.9983627468608685, 0.9660985462297653, 0.7795951836304591, 0.2145240218844232, 0.0047371235116434145, 0.001353463860469547, 0.016507963814837837, 0.9739698650754323, 0.9285260520921819, 0.9941018057837578, 0.11917523899889423, 0.8640204827419832, 0.7793922897370434, 0.9592208614104227, 0.9861685480965856, 0.8430192918193706, 0.15021886316994104, 0.0022420725846259855, 0.004484145169251971, 0.7908703389902644, 0.02215338611837777, 0.18830378200621103, 0.01846115509864814, 0.764291821084033, 0.0036922310197296283, 0.026905393647957063, 0.9685941713264543, 0.00763062544750821, 0.9919813081760673, 0.01392126362068728, 0.01392126362068728, 0.9744884534481096, 0.9978676366766335, 0.1689793431895707, 0.2703669491033131, 0.5407338982066262, 0.6460174505099572, 0.34785555027459236, 0.09680493176686923, 0.8906053722551969, 0.7351358239628524, 0.24930164418922207, 0.006688580697759617, 0.008512739069875876, 0.5524386212189897, 0.19265716622342915, 0.2553287745129784, 0.8718461060272527, 0.035769703580182076, 0.9538587621381887, 0.005700178773550094, 0.9918311065977164, 0.9942580769689235, 0.0023560617937652215, 0.0023560617937652215, 0.7256985845352187, 0.06764986804989327, 0.07379985605442901, 0.13529973609978654, 0.9829064756659169, 0.00792666512633804, 0.9851028413917818, 0.7860572171552574, 0.1742221057220204, 0.038411172915091114, 0.0013718276041103968, 0.16504184687907697, 0.8252092343953847, 0.05982088539427866, 0.05982088539427866, 0.8374923955199013, 0.007823516629209147, 0.9857630952803527, 0.4471430593580189, 0.31672633371193004, 0.22357152967900945, 0.9967704541107397, 0.0020300823912642357, 0.9588913432877973, 0.20117453447880215, 0.004789869868542908, 0.36881997987780396, 0.26344284276985996, 0.16764544539900178, 0.22030967285695283, 0.09913935278562877, 0.34147999292827685, 0.3304645092854292, 0.8960454839309991, 0.9824482325769408, 0.014795907117122602, 0.970269541204227, 0.9874329807498426, 0.04868912618152444, 0.9250933974489643, 0.9368462272086842, 0.990859785917836, 0.03716787547501371, 0.9601701164378543, 0.9932344283863407, 0.9974569299396944, 0.02863269913593113, 0.9735117706216584, 0.9489262442412089, 0.045292824246315394, 0.9511493091726233, 0.9958380847592714, 0.0154291229148339, 0.9797493050919526, 0.9225531495125968, 0.9784185584385477, 0.12040398505725367, 0.8669086924122263, 0.9277075398704057, 0.020433355536705264, 0.9762603200870292, 0.0022703728374116956, 0.053314217537235295, 0.1910426128417598, 0.7508418969827304, 0.8816533421815113, 0.1117163481531367, 0.006038721521791173, 0.6479637015043774, 0.17272670099012125, 0.1278750162026312, 0.05057743178163771, 0.9920365285208272, 0.028279277326820142, 0.9614954291118848, 0.984619128672185, 0.3097104276846281, 0.6194208553692562, 0.11972455850185645, 0.8739892770635521, 0.9605051291079864, 0.06984504073611754, 0.9196263696922143, 0.9366823332434899, 0.016175139502265526, 0.9705083701359316, 0.9833476106909149, 0.8551051455500024, 0.4406864371321041, 0.11846409600325378, 0.4406864371321041, 0.008060633300813238, 0.983397262699215, 0.004423964090962945, 0.9953919204666627, 0.9900319101971513, 0.979564508088811, 0.9203299844564391, 0.9824197959812474, 0.10730390438222162, 0.8798920159342173, 0.17491602399989778, 0.0026910157538445815, 0.8207598049225973, 0.6017521590258276, 0.3934533347476565, 0.9449667583391359, 0.40514831960015435, 0.5812997629045693, 0.11760060866171028, 0.4358140203345734, 0.4427317031970269, 0.9888259048581424, 0.9932242364307576, 0.003074997636008538, 0.9429781500185502, 0.05475955792430557, 0.0009281281004119589, 0.0009281281004119589, 0.07790896905504503, 0.21981459126244848, 0.07234404269397039, 0.6288366788014349, 0.9747899493836973, 0.035820258691197926, 0.07164051738239585, 0.8596862085887501, 0.17461614066952366, 0.8032342470798088, 0.2501368515236633, 0.708721079317046, 0.04492661547815126, 0.16173581572134454, 0.7907084324154622, 0.9923334534178193, 0.023360193564153506, 0.07008058069246052, 0.8993674522199101, 0.967330650338108, 0.9536230574041371, 0.9954138731640321, 0.06669087559389927, 0.6980311645494791, 0.23341806457864747, 0.9946463219486624, 0.9946826242119495, 0.9954986014356901, 0.9944690652423257, 0.9914348694447166, 0.4458510150972433, 0.09431463780903224, 0.18648576112240464, 0.2722263409487976, 0.027262876736807773, 0.0477100342894136, 0.9269378090514643, 0.011713734650041443, 0.9722399759534398, 0.037897377103789, 0.9550139030154828, 0.01294289948162615, 0.9707174611219612, 0.9790146060089805, 0.9922708828249627, 0.00662397118040696, 0.001324794236081392, 0.7928284237157868, 0.1781185478956075, 0.02812398124667487, 0.015156495892571948, 0.9700157371246046, 0.16108584081081387, 0.8334441328907326, 0.9953143843801053, 0.9895630678332367, 0.007170746868356788, 0.9557414941870491, 0.9678036352149446, 0.9548842047809576, 0.9601482448043958, 0.040192252108090985, 0.20886801090421075, 0.6266040327126323, 0.9966024457412848, 0.24535805433760507, 0.10223252264066879, 0.6338416403721464, 0.9349680704260885, 0.03189656530238255, 0.03389010063378146, 0.01796276362440888, 0.9699892357180795, 0.9598459647532649, 0.12586350035875532, 0.020977250059792556, 0.8495786274215985, 0.19895273246658446, 0.0034903988152032357, 0.7818493346055249, 0.0034903988152032357, 0.010471196445609707, 0.9441102974776647, 0.9307073332676528, 0.4054990695547886, 0.5068738369434858, 0.5273864636371899, 0.4686287326341334, 0.004299346170955352, 0.017512507316873184, 0.02626876097530978, 0.9281628877942788, 0.017512507316873184, 0.9297340255918561, 0.9782443183952729, 0.9048590528927599, 0.28099181789794725, 0.04683196964965788, 0.6660546794618009, 0.8749457518564785, 0.11330232757853678, 0.009441860631544731, 0.06796729464212478, 0.23788553124743672, 0.7136565937423102, 0.005599588934906921, 0.991127241478525, 0.011322847765182872, 0.9850877555709098, 0.9823421183255618, 0.8045195875303907, 0.19340975942649796, 0.0016252920960209913, 0.9772470124569979, 0.961360036196891, 0.4892141632897656, 0.5074684231140106, 0.9858609999077629, 0.9914186473815942, 0.04574905999962991, 0.9492929949923206, 0.9959334080818772, 0.9987343194664076, 0.9972753633599286, 0.3780394561308244, 0.4573057937066424, 0.05284422505054535, 0.10975339048959419, 0.5091288738692574, 0.01770883039545243, 0.057553698785220396, 0.41615751429313214, 0.974862336332174, 0.963772902489947, 0.8879025395474147, 0.998019257095358, 0.927799244977151, 0.07016969079659126, 0.7215587553483155, 0.2546677960052878, 0.01666226482785933, 0.9664113600158412, 0.9925847644541914, 0.009069919275344725, 0.9795512817372304, 0.009069919275344725, 0.005087372657431702, 0.9920376681991818, 0.06244306490326923, 0.8742029086457692, 0.8972867671650716, 0.04282441532087377, 0.942137137059223, 0.17506638342289438, 0.043766595855723595, 0.30636617099006513, 0.45954925648509776, 0.9926041367955244, 0.9905254102822387, 0.006878648682515546, 0.9890845275574373, 0.7095808553860303, 0.2896248389330736, 0.627119328366853, 0.07180755668322744, 0.30159173806955525, 0.9945771526012808, 0.08145128454132042, 0.9180038893009995, 0.9901025369006256, 0.9560701939791263, 0.9818591620702493, 0.9111642257555553, 0.47535436000183473, 0.28903456060413063, 0.009554861507574567, 0.22453924542800233, 0.039829596779659554, 0.0995739919491489, 0.8563363307626805, 0.03561064041435268, 0.9614872911875224, 0.026207389708752332, 0.9696734192238363, 0.17826440838572735, 0.8219969942230761, 0.9308353636297007, 0.12365744913177955, 0.8744348188604412, 0.9496536050537199, 0.9777725543874048, 0.011745015668317175, 0.008808761751237881, 0.10396837378874695, 0.8941280145832238, 0.03275766775358328, 0.9499723648539151, 0.5415616772782078, 0.11846661690460797, 0.3384760482988799, 0.9781469108317628, 0.8820446950099529, 0.2337960533985668, 0.7533428387287152, 0.009658540593557441, 0.9449272214030363, 0.03702440560863685, 0.006439027062371627, 0.9822317315391984, 0.010231580536866649, 0.3087643557455598, 0.6922297653005293, 0.9800987569937579, 0.8064765717724353, 0.9614033555555942, 0.03710113620432662, 0.05806317460494037, 0.9290107936790459, 0.6779836367493424, 0.31397715493226547, 0.0008625746014622678, 0.006900596811698142, 0.2749575537887301, 0.22913129482394173, 0.45826258964788347, 0.8848558254985857, 0.7472530856827652, 0.18439758256611338, 0.06280791021902551, 0.0056366073273484436, 0.9433883773471036, 0.9660880132915786, 0.024982698251052312, 0.12491349125526156, 0.8494117405357786, 0.07065917069499321, 0.9185692190349116, 0.36250492214648944, 0.15859590343908914, 0.45313115268311177, 0.4661315772964657, 0.16950239174416934, 0.37078648194037045, 0.730852213383511, 0.9868479271283488, 0.980561539987309, 0.2978874272131963, 0.10063764432878253, 0.5917493486532412, 0.008051011546302602, 0.9042719502772953, 0.029586078910079295, 0.06448247967581384, 0.0015172348159015023, 0.8796759142943977, 0.045111585348430655, 0.07411189021527893, 0.9212801893406685, 0.0015994447731608828, 0.07517390433856148, 0.0015994447731608828, 0.03113023241812034, 0.9650372049617305, 0.037519120625003004, 0.9504843891667428, 0.9278435461055196, 0.006734392381754232, 0.10775027810806771, 0.040406354290525394, 0.8485334401010333, 0.8957187010636435, 0.8599986387354769, 0.12264585397773983, 0.010343626239086492, 0.005910643565192281, 0.9865859986995604, 0.9808912948772412, 0.9979982600052913, 0.0231896371939184, 0.695689115817552, 0.2782756463270208, 0.13933269573950718, 0.33709523162783994, 0.5213739582510591, 0.9045522034196452, 0.08909612688106688, 0.004530311536325435, 0.8120586115187326, 0.18426995097060442, 0.0038124817442194018, 0.9875345831228644, 0.012006499490855494, 0.14405259838050907, 0.8545493124267487, 0.9993781903421299, 0.9976102962663734, 0.30898133145231826, 0.6885174551260321, 0.9482612361799849, 0.02839105497544865, 0.015615080236496758, 0.005678210995089731, 0.9829604097148723, 0.2522981909200229, 0.31537273865002863, 0.4415218341100401, 0.994352614001022, 0.9860014266008879, 0.8217810280950888, 0.8758215652930105, 0.13154816328271499, 0.8456667639603106, 0.996527170871002, 0.022549974746600206, 0.9696489141038088, 0.9839982120900657, 0.12852859665080407, 0.6464232360966912, 0.15593542976016672, 0.06804455116807274, 0.4648545438517245, 0.2711651505801726, 0.2500353985869124, 0.014086501328840135, 0.9670681895377241], \"Term\": [\"acid\", \"acid\", \"acid\", \"acids\", \"adjustable\", \"albicans\", \"ames\", \"ames\", \"amino\", \"amour\", \"andersson\", \"antibiotics\", \"antibiotics\", \"apple\", \"application\", \"april\", \"april\", \"april\", \"april\", \"archbishop\", \"aspartame\", \"astronaut\", \"astronomy\", \"atmosphere\", \"authority\", \"authority\", \"authority\", \"bad\", \"bad\", \"bad\", \"badpixmap\", \"banks\", \"banks\", \"banks\", \"barrier\", \"baseball\", \"believe\", \"believe\", \"believe\", \"belonged\", \"belonged\", \"belonged\", \"bending\", \"better\", \"better\", \"better\", \"better\", \"bible\", \"bishop\", \"bishops\", \"bit\", \"bit\", \"bla\", \"blood\", \"blood\", \"blood\", \"blues\", \"bone\", \"brain\", \"brain\", \"brain\", \"braves\", \"brind\", \"buf\", \"buf\", \"buf\", \"build\", \"build\", \"build\", \"build\", \"build\", \"bus\", \"cache\", \"cache\", \"cadre\", \"cadre\", \"calcium\", \"candida\", \"canon\", \"canon\", \"capslock\", \"card\", \"card\", \"carnegie\", \"carpal\", \"cassels\", \"catholic\", \"catholic\", \"catholics\", \"catholics\", \"cause\", \"cause\", \"cause\", \"cdi\", \"center\", \"center\", \"center\", \"cereals\", \"cgy\", \"char\", \"char\", \"chastity\", \"chastity\", \"chi\", \"chi\", \"chinese\", \"chinese\", \"christ\", \"christians\", \"chronic\", \"chronic\", \"church\", \"church\", \"churches\", \"churches\", \"cmap\", \"cnn\", \"coach\", \"code\", \"com\", \"com\", \"com\", \"com\", \"com\", \"common\", \"common\", \"common\", \"consecration\", \"constantinople\", \"contest\", \"contest\", \"contest\", \"controller\", \"coptic\", \"corn\", \"council\", \"council\", \"council\", \"cpu\", \"cpu\", \"creed\", \"creed\", \"cubs\", \"data\", \"data\", \"datahand\", \"davewood\", \"day\", \"day\", \"day\", \"daystar\", \"dc\", \"dc\", \"dc\", \"defensive\", \"deity\", \"deity\", \"det\", \"det\", \"did\", \"did\", \"did\", \"did\", \"didn\", \"didn\", \"didn\", \"diet\", \"diet\", \"dineen\", \"disease\", \"disease\", \"disease\", \"disease\", \"diseases\", \"diseases\", \"diseases\", \"disk\", \"disobedience\", \"disobedience\", \"display\", \"divine\", \"divine\", \"division\", \"division\", \"division\", \"division\", \"dma\", \"dma\", \"doctor\", \"doctor\", \"doctor\", \"doctors\", \"doctors\", \"doctrine\", \"doctrine\", \"does\", \"does\", \"does\", \"dominating\", \"dominating\", \"don\", \"don\", \"don\", \"don\", \"dos\", \"doses\", \"doses\", \"doug\", \"doug\", \"doug\", \"doug\", \"dpy\", \"dpy\", \"drawindex\", \"drive\", \"drive\", \"drives\", \"dsl\", \"dsl\", \"dyer\", \"dyer\", \"earth\", \"earth\", \"eat\", \"eat\", \"eating\", \"eating\", \"edm\", \"edm\", \"edu\", \"edu\", \"edu\", \"edu\", \"edu\", \"effect\", \"effect\", \"effect\", \"end\", \"end\", \"end\", \"endometriosis\", \"engines\", \"entries\", \"entries\", \"entry\", \"entry\", \"entry\", \"entry\", \"eof\", \"eof\", \"era\", \"essence\", \"essence\", \"excommunicated\", \"excommunication\", \"fan\", \"fan\", \"fans\", \"fans\", \"fat\", \"fat\", \"fever\", \"fever\", \"file\", \"file\", \"file\", \"filename\", \"filename\", \"files\", \"flavor\", \"flight\", \"food\", \"food\", \"foods\", \"foods\", \"fprintf\", \"fprintf\", \"fungus\", \"galley\", \"game\", \"game\", \"game\", \"games\", \"games\", \"gc\", \"gc\", \"geb\", \"geb\", \"gilkey\", \"gl\", \"gl\", \"glutamate\", \"gm\", \"gm\", \"gm\", \"goal\", \"goal\", \"goal\", \"goal\", \"goalie\", \"god\", \"god\", \"good\", \"good\", \"good\", \"good\", \"gordon\", \"gordon\", \"gospels\", \"got\", \"got\", \"got\", \"gov\", \"gov\", \"gov\", \"gr\", \"gr\", \"hardware\", \"hawgood\", \"health\", \"health\", \"health\", \"help\", \"help\", \"heresy\", \"heretical\", \"hernia\", \"het\", \"hfd\", \"hicnet\", \"highlighting\", \"highlighting\", \"highlighting\", \"hit\", \"hit\", \"hiv\", \"hiv\", \"hockey\", \"holy\", \"holy\", \"ial\", \"ide\", \"iisi\", \"iisi\", \"ik\", \"immune\", \"immune\", \"immune\", \"indiana\", \"indiana\", \"infallibility\", \"infection\", \"infection\", \"infection\", \"infection\", \"infections\", \"infections\", \"infections\", \"infections\", \"inflammatory\", \"info\", \"info\", \"info\", \"information\", \"information\", \"information\", \"information\", \"ingredients\", \"init\", \"init\", \"intake\", \"intellect\", \"intellect\", \"interface\", \"io\", \"io\", \"io\", \"ioccc\", \"ioccc\", \"jb\", \"jesus\", \"jurisdiction\", \"just\", \"just\", \"just\", \"just\", \"jxp\", \"jxp\", \"kekule\", \"keyboard\", \"kidney\", \"kidney\", \"kinesis\", \"kirlian\", \"km\", \"know\", \"know\", \"know\", \"know\", \"kssimon\", \"la\", \"la\", \"la\", \"la\", \"la\", \"landon\", \"landon\", \"launch\", \"launch\", \"launched\", \"launched\", \"launched\", \"league\", \"lefebvre\", \"lefebvre\", \"lefebvre\", \"lib\", \"lib\", \"libxmu\", \"libxmu\", \"like\", \"like\", \"like\", \"like\", \"line\", \"line\", \"line\", \"liverpool\", \"lssu\", \"lssu\", \"lunar\", \"lunar\", \"mac\", \"mac\", \"mac\", \"main\", \"main\", \"main\", \"main\", \"maine\", \"maine\", \"majors\", \"make\", \"make\", \"make\", \"make\", \"maltron\", \"maltron\", \"maria\", \"maria\", \"maria\", \"mars\", \"mars\", \"mask\", \"mask\", \"mask\", \"mb\", \"mb\", \"meal\", \"medical\", \"medical\", \"medical\", \"medical\", \"medical\", \"medicine\", \"medicine\", \"medicine\", \"medicine\", \"membrane\", \"memory\", \"memory\", \"methanol\", \"mets\", \"migraine\", \"migraine\", \"migraines\", \"milwaukee\", \"mission\", \"mission\", \"missions\", \"mit\", \"mkentry\", \"mkentry\", \"mod\", \"moon\", \"moon\", \"motif\", \"msg\", \"msg\", \"mucus\", \"mullen\", \"mydisplay\", \"mydisplay\", \"myhint\", \"nasa\", \"nasa\", \"nasa\", \"national\", \"national\", \"national\", \"need\", \"need\", \"need\", \"new\", \"new\", \"new\", \"new\", \"nhl\", \"noll\", \"noll\", \"noonan\", \"numlock\", \"numlock\", \"nyi\", \"nyi\", \"nylander\", \"nyr\", \"nyr\", \"nystatin\", \"obfuscated\", \"obfuscated\", \"observatory\", \"occupational\", \"ok\", \"ok\", \"ok\", \"oname\", \"oname\", \"orbit\", \"orbit\", \"orbital\", \"orbiter\", \"organism\", \"orioles\", \"orthodox\", \"orthodox\", \"output\", \"output\", \"output\", \"pain\", \"pain\", \"papal\", \"patient\", \"patient\", \"patients\", \"patients\", \"patients\", \"payload\", \"pc\", \"pc\", \"people\", \"people\", \"people\", \"people\", \"period\", \"period\", \"period\", \"period\", \"phenylalanine\", \"photography\", \"photography\", \"photography\", \"physician\", \"physician\", \"physicians\", \"physicians\", \"pit\", \"pit\", \"pit\", \"pitching\", \"pitt\", \"pitt\", \"pitt\", \"pius\", \"placebo\", \"planetary\", \"play\", \"play\", \"play\", \"played\", \"player\", \"players\", \"playoffs\", \"pope\", \"power\", \"power\", \"power\", \"power\", \"pp\", \"pp\", \"pp\", \"predictions\", \"predictions\", \"printf\", \"printf\", \"probe\", \"probe\", \"probes\", \"problem\", \"problem\", \"problem\", \"program\", \"program\", \"program\", \"propulsion\", \"propulsion\", \"pt\", \"pt\", \"pts\", \"puck\", \"puck\", \"qi\", \"quack\", \"quacks\", \"question\", \"question\", \"qwerty\", \"qwerty\", \"ram\", \"reaction\", \"reaction\", \"reaction\", \"read\", \"read\", \"read\", \"recchi\", \"recchi\", \"refusal\", \"remark\", \"remark\", \"remark\", \"research\", \"research\", \"research\", \"research\", \"research\", \"restaurant\", \"restaurants\", \"rex\", \"rex\", \"right\", \"right\", \"right\", \"rocket\", \"rocket\", \"rocket\", \"rocket\", \"rome\", \"ronning\", \"roth\", \"rules\", \"rules\", \"rules\", \"running\", \"running\", \"running\", \"saint\", \"saint\", \"saint\", \"satellite\", \"satellite\", \"satellites\", \"satellites\", \"saturn\", \"say\", \"say\", \"say\", \"schism\", \"schismatic\", \"science\", \"science\", \"score\", \"scored\", \"scorer\", \"scorer\", \"screen\", \"scsi\", \"season\", \"second\", \"second\", \"second\", \"second\", \"section\", \"section\", \"section\", \"section\", \"seizure\", \"seizures\", \"serbs\", \"server\", \"set\", \"set\", \"sgi\", \"sgi\", \"shameful\", \"shameful\", \"sharks\", \"shot\", \"shot\", \"shot\", \"shuttle\", \"shuttle\", \"sinus\", \"sinus\", \"sinuses\", \"skepticism\", \"skepticism\", \"skin\", \"skin\", \"skin\", \"skin\", \"snow\", \"software\", \"software\", \"solar\", \"son\", \"son\", \"soon\", \"soon\", \"soon\", \"sox\", \"space\", \"space\", \"spacecraft\", \"sporanox\", \"ssf\", \"sspx\", \"st\", \"st\", \"st\", \"st\", \"station\", \"station\", \"station\", \"stderr\", \"stderr\", \"stdin\", \"stdin\", \"stl\", \"stl\", \"stormed\", \"stream\", \"stream\", \"sugar\", \"support\", \"support\", \"support\", \"surface\", \"surface\", \"surrender\", \"surrender\", \"symptoms\", \"symptoms\", \"symptoms\", \"systemic\", \"tartaric\", \"taste\", \"taste\", \"team\", \"team\", \"team\", \"team\", \"teams\", \"teams\", \"technology\", \"technology\", \"telescope\", \"tendonitis\", \"thanks\", \"thanks\", \"therapies\", \"therapies\", \"think\", \"think\", \"think\", \"think\", \"thirty\", \"thirty\", \"thirty\", \"thrush\", \"time\", \"time\", \"time\", \"time\", \"tinnitus\", \"toad\", \"tobacco\", \"tobacco\", \"tobacco\", \"tomb\", \"tomb\", \"tradition\", \"tradition\", \"tradition\", \"treatment\", \"treatment\", \"treatment\", \"tunnel\", \"ultraviolet\", \"unassisted\", \"university\", \"university\", \"university\", \"university\", \"use\", \"use\", \"use\", \"use\", \"used\", \"used\", \"used\", \"using\", \"using\", \"using\", \"using\", \"utica\", \"utica\", \"uuencode\", \"uuencode\", \"vaginal\", \"van\", \"van\", \"van\", \"van\", \"vatican\", \"ve\", \"ve\", \"ve\", \"ve\", \"vehicle\", \"venus\", \"version\", \"vitamin\", \"vitamin\", \"vitamin\", \"vs\", \"vs\", \"vs\", \"want\", \"want\", \"want\", \"way\", \"way\", \"way\", \"widget\", \"widget\", \"win\", \"win\", \"window\", \"windows\", \"won\", \"won\", \"work\", \"work\", \"work\", \"work\", \"wpg\", \"wrist\", \"wrist\", \"wrist\", \"write\", \"wsh\", \"xlock\", \"xmdrawingarea\", \"xmu\", \"xmu\", \"xt\", \"xvoid\", \"xvoid\", \"yankees\", \"year\", \"year\", \"year\", \"year\", \"years\", \"years\", \"years\", \"years\", \"yeast\"]}};\n",
       "\n",
       "function LDAvis_load_lib(url, callback){\n",
       "  var s = document.createElement('script');\n",
       "  s.src = url;\n",
       "  s.async = true;\n",
       "  s.onreadystatechange = s.onload = callback;\n",
       "  s.onerror = function(){console.warn(\"failed to load library \" + url);};\n",
       "  document.getElementsByTagName(\"head\")[0].appendChild(s);\n",
       "}\n",
       "\n",
       "if(typeof(LDAvis) !== \"undefined\"){\n",
       "   // already loaded: just create the visualization\n",
       "   !function(LDAvis){\n",
       "       new LDAvis(\"#\" + \"ldavis_el340571406971090427844463343745\", ldavis_el340571406971090427844463343745_data);\n",
       "   }(LDAvis);\n",
       "}else if(typeof define === \"function\" && define.amd){\n",
       "   // require.js is available: use it to load d3/LDAvis\n",
       "   require.config({paths: {d3: \"https://cdnjs.cloudflare.com/ajax/libs/d3/3.5.5/d3.min\"}});\n",
       "   require([\"d3\"], function(d3){\n",
       "      window.d3 = d3;\n",
       "      LDAvis_load_lib(\"https://cdn.rawgit.com/bmabey/pyLDAvis/files/ldavis.v1.0.0.js\", function(){\n",
       "        new LDAvis(\"#\" + \"ldavis_el340571406971090427844463343745\", ldavis_el340571406971090427844463343745_data);\n",
       "      });\n",
       "    });\n",
       "}else{\n",
       "    // require.js not available: dynamically load d3 & LDAvis\n",
       "    LDAvis_load_lib(\"https://cdnjs.cloudflare.com/ajax/libs/d3/3.5.5/d3.min.js\", function(){\n",
       "         LDAvis_load_lib(\"https://cdn.rawgit.com/bmabey/pyLDAvis/files/ldavis.v1.0.0.js\", function(){\n",
       "                 new LDAvis(\"#\" + \"ldavis_el340571406971090427844463343745\", ldavis_el340571406971090427844463343745_data);\n",
       "            })\n",
       "         });\n",
       "}\n",
       "</script>"
      ],
      "text/plain": [
       "<IPython.core.display.HTML object>"
      ]
     },
     "execution_count": 30,
     "metadata": {},
     "output_type": "execute_result"
    }
   ],
   "source": [
    "# load the pre-prepared pyLDAvis data from disk\n",
    "with open(LDAvis_data_filepath, 'rb') as f:\n",
    "    LDAvis_prepared = pickle.load(f)\n",
    "\n",
    "pyLDAvis.display(LDAvis_prepared)"
   ]
  },
  {
   "cell_type": "markdown",
   "metadata": {},
   "source": [
    "# 3. TOPIC2VEC"
   ]
  },
  {
   "cell_type": "code",
   "execution_count": 51,
   "metadata": {},
   "outputs": [],
   "source": [
    "# argmax example:\n",
    "# >>> kkk\n",
    "# array([[1, 2, 3],\n",
    "#       [0, 4, 2]])\n",
    "# >>> np.argmax(kkk, 0)\n",
    "# array([0, 1, 0])\n",
    "# >>> np.argmax(kkk, 1)\n",
    "# array([2, 1])\n",
    "#\n",
    "# this will select the topic with the most word weight for each word in the vocabulary\n",
    "# after this, we can easily lookup the best topic of each vocabulary word by \n",
    "# most_p_topic[word_voca_index] -> word's topic (0 -7 in this case) \n",
    "most_p_topic = np.argmax(per_topic_distr_LDA, axis=0)"
   ]
  },
  {
   "cell_type": "code",
   "execution_count": 52,
   "metadata": {},
   "outputs": [],
   "source": [
    "# per_topic_distr_LDA"
   ]
  },
  {
   "cell_type": "code",
   "execution_count": 53,
   "metadata": {},
   "outputs": [
    {
     "data": {
      "text/plain": [
       "(17197,)"
      ]
     },
     "execution_count": 53,
     "metadata": {},
     "output_type": "execute_result"
    }
   ],
   "source": [
    "most_p_topic.shape"
   ]
  },
  {
   "cell_type": "code",
   "execution_count": 54,
   "metadata": {},
   "outputs": [],
   "source": [
    "word_and_topic = zip(tf_feature_names, most_p_topic)\n",
    "# word2topic_dict = {word : 'topic_' + np.array_str(topic) for word, topic in word_and_topic}\n",
    "word2topic_dict = {word : 'topic_{}'.format(topic) for word, topic in word_and_topic}"
   ]
  },
  {
   "cell_type": "code",
   "execution_count": 55,
   "metadata": {},
   "outputs": [
    {
     "data": {
      "text/plain": [
       "[('disrespectful', 'topic_4'),\n",
       " ('closed', 'topic_4'),\n",
       " ('fraud', 'topic_5'),\n",
       " ('ventura', 'topic_7'),\n",
       " ('powerful', 'topic_1')]"
      ]
     },
     "execution_count": 55,
     "metadata": {},
     "output_type": "execute_result"
    }
   ],
   "source": [
    "# list the top 5 words and their belonged topics\n",
    "from itertools import islice\n",
    "list(islice(word2topic_dict.items(), 5))"
   ]
  },
  {
   "cell_type": "markdown",
   "metadata": {},
   "source": [
    "## 3.1 Tokenization"
   ]
  },
  {
   "cell_type": "code",
   "execution_count": 56,
   "metadata": {},
   "outputs": [],
   "source": [
    "def tokenizer(document):\n",
    "    text = \"\".join([ch for ch in document if ch not in string.punctuation])\n",
    "    text_list = text.split()\n",
    "    normalized_text = [x.lower() for x in text_list]\n",
    "    # Define an empty list\n",
    "    nostopwords_text = []\n",
    "    # Scan the words\n",
    "    for word in normalized_text:\n",
    "        # Determine if the word is contained in the stop words list\n",
    "        if word not in ENGLISH_STOP_WORDS:\n",
    "            # If the word is not contained I append it\n",
    "            nostopwords_text.append(word)\n",
    "    tokenized_text = [word for word in nostopwords_text if re.search('[a-zA-Z]{2,}', word)]\n",
    "            \n",
    "    return tokenized_text"
   ]
  },
  {
   "cell_type": "code",
   "execution_count": 57,
   "metadata": {},
   "outputs": [],
   "source": [
    "def map_doc_to_topic(tokenized_text, prefix, doc_id_number, word2topic_dict):\n",
    "    doc_to_topic_list = [prefix + '_' + str(doc_id_number)]\n",
    "    # print('adding doc_to_topic header element {}'.format(doc_to_topic_list[0]))\n",
    "\n",
    "    for word in tokenized_text:\n",
    "        if word in word2topic_dict.keys():\n",
    "            doc_to_topic_list.append(word2topic_dict[word])\n",
    "        # else:\n",
    "        #    print('{} not found in word2topic_dict.keys'.format(word))\n",
    "\n",
    "    return doc_to_topic_list"
   ]
  },
  {
   "cell_type": "code",
   "execution_count": 58,
   "metadata": {},
   "outputs": [],
   "source": [
    "from gensim.models.deprecated.doc2vec import LabeledSentence"
   ]
  },
  {
   "cell_type": "raw",
   "metadata": {},
   "source": [
    "class LabeledLineSentence(object):\n",
    "    def __init__(self, docs_list, word2topic_dict):\n",
    "        self.labels_list = word2topic_dict\n",
    "        self.docs_list = docs_list\n",
    "    def __iter__(self):\n",
    "        for idx, doc in enumerate(self.docs_list):\n",
    "            words_doc=tokenizer(doc)\n",
    "            tags_doc = map_doc_to_topic(words_doc, idx, word2topic_dict)\n",
    "            yield LabeledSentence(words = words_doc,\n",
    "                                                 tags = tags_doc)\n",
    "            \n",
    "    def sentences_perm(self):\n",
    "        shuffle(models.doc2vec.LabeledSentence)\n",
    "        return models.doc2vec.LabeledSentence"
   ]
  },
  {
   "cell_type": "code",
   "execution_count": 59,
   "metadata": {},
   "outputs": [],
   "source": [
    "class LabeledLineSentence_training(object):\n",
    "    def __init__(self, sources, word2topic_dict):\n",
    "        self.labels_list = word2topic_dict\n",
    "        self.sources = sources\n",
    "        flipped = {}\n",
    "        # make sure that keys are unique\n",
    "        for key, value in sources.items():\n",
    "            if value not in flipped:\n",
    "                flipped[value] = [key]\n",
    "            else:\n",
    "                raise Exception('Non-unique prefix encountered')\n",
    "    \n",
    "    def __iter__(self):\n",
    "        print('len of sources is {}'.format(len(self.sources)))\n",
    "        for source, prefix in self.sources.items():\n",
    "            print(source)\n",
    "            newsgroups_train_cat = fetch_20newsgroups(subset='train',\n",
    "                                                      remove=('headers', 'footers', 'quotes'),\n",
    "                                                      categories=[source])\n",
    "            # print('len of newsgroups_train_cat is {}'.format(len(newsgroups_train_cat)))\n",
    "            # (Pdb) newsgroups_train_cat.keys() -> \n",
    "            # dict_keys(['data', 'filenames', 'target', 'description', 'DESCR', 'target_names'])\n",
    "            # import pdb; pdb.set_trace()\n",
    "            for idx, doc in enumerate(newsgroups_train_cat.data):\n",
    "                words_doc=tokenizer(doc)\n",
    "                tags_doc = map_doc_to_topic(words_doc, prefix, idx, word2topic_dict)\n",
    "                yield LabeledSentence(words = words_doc,\n",
    "                                                     tags = tags_doc)\n",
    "                \n",
    "    def to_array(self):\n",
    "        self.sentences = []\n",
    "        print('len of sources is {}'.format(len(self.sources)))\n",
    "        for source, prefix in self.sources.items():\n",
    "            newsgroups_train_cat = fetch_20newsgroups(subset='train',\n",
    "                                                      remove=('headers', 'footers', 'quotes'),\n",
    "                                                      categories=[source])\n",
    "            # print('len of newsgroups_train_cat is {}'.format(len(newsgroups_train_cat)))\n",
    "            # import pdb; pdb.set_trace()\n",
    "            # (Pdb) type(newsgroups_train_cat) -> <class 'sklearn.utils.Bunch'> => len is 6\n",
    "            # (Pdb) type(newsgroups_train_cat.data) -> <class 'list'>\n",
    "            # (Pdb) len(newsgroups_train_cat.data) -> 593\n",
    "            # (Pdb) newsgroups_train_cat.data[0] -> document 1 strings, with newlines inside\n",
    "            # (Pdb) newsgroups_train_cat.data[1] -> document 2 strings, with newlines inside\n",
    "            # (Pdb) newsgroups_train_cat.target.shape -> (593,)\n",
    "            # (Pdb) newsgroups_train_cat.target.max() -> 0\n",
    "            for idx, doc in enumerate(newsgroups_train_cat.data):\n",
    "                words_doc=tokenizer(doc)\n",
    "                tags_doc = map_doc_to_topic(words_doc, prefix, idx, word2topic_dict)\n",
    "                self.sentences.append(LabeledSentence(words = words_doc,\n",
    "                                                     tags = tags_doc))\n",
    "        return self.sentences\n",
    "            \n",
    "    def sentences_perm(self):\n",
    "        shuffle(self.sentences)\n",
    "        return self.sentences"
   ]
  },
  {
   "cell_type": "markdown",
   "metadata": {
    "collapsed": true
   },
   "source": [
    "## 3.1 Training"
   ]
  },
  {
   "cell_type": "markdown",
   "metadata": {},
   "source": [
    "### Revisit parameters before training"
   ]
  },
  {
   "cell_type": "code",
   "execution_count": 60,
   "metadata": {},
   "outputs": [
    {
     "data": {
      "text/plain": [
       "{'comp.sys.ibm.pc.hardware': 'comp_sys_ibm_pc_hardware',\n",
       " 'comp.sys.mac.hardware': 'comp_sys_mac_hardware',\n",
       " 'comp.windows.x': 'comp_windows_x',\n",
       " 'rec.sport.baseball': 'rec_sport_baseball',\n",
       " 'rec.sport.hockey': 'rec_sport_hockey',\n",
       " 'sci.med': 'sci_med',\n",
       " 'sci.space': 'sci_space',\n",
       " 'soc.religion.christian': 'soc_religion_christian'}"
      ]
     },
     "execution_count": 60,
     "metadata": {},
     "output_type": "execute_result"
    }
   ],
   "source": [
    "categories_source"
   ]
  },
  {
   "cell_type": "code",
   "execution_count": 61,
   "metadata": {},
   "outputs": [
    {
     "data": {
      "text/plain": [
       "[('disrespectful', 'topic_4'),\n",
       " ('closed', 'topic_4'),\n",
       " ('fraud', 'topic_5'),\n",
       " ('ventura', 'topic_7'),\n",
       " ('powerful', 'topic_1')]"
      ]
     },
     "execution_count": 61,
     "metadata": {},
     "output_type": "execute_result"
    }
   ],
   "source": [
    "list(islice(word2topic_dict.items(), 5))"
   ]
  },
  {
   "cell_type": "markdown",
   "metadata": {},
   "source": [
    "### Tokenization"
   ]
  },
  {
   "cell_type": "code",
   "execution_count": 62,
   "metadata": {},
   "outputs": [],
   "source": [
    "# For all input news group documents\n",
    "#    For all sentences in that document\n",
    "#        Generate gensim.models.deprecated.doc2vec.LabeledSentence\n",
    "#            (words, tags with group name and word's topics)\n",
    "it = LabeledLineSentence_training(categories_source, word2topic_dict)"
   ]
  },
  {
   "cell_type": "markdown",
   "metadata": {},
   "source": [
    "#### Quote notes about LabeledSentence and TaggedDocument\n",
    "1. LabeledSentence is an older, deprecated name for the same simple object-type to encapsulate a text-example that is now called TaggedDocument. \n",
    "2. Any objects that have words and tags properties, each a list, will do.\n",
    "    - words is always a list of strings\n",
    "    - tags can be a mix of integers and strings, but in the common and most-efficient case, is just a list with a single id integer, starting at 0.)\n",
    "\n",
    "#### [Info about how to use Gensim doc2vec](https://medium.com/@mishra.thedeepak/doc2vec-in-a-simple-way-fa80bfe81104)\n",
    "1. In this example it uses filename and doc label\n",
    "2. And after the training it can print the vector of the file using its name\n",
    "\n",
    "    ```\n",
    "    docvec = d2v_model.docvecs[‘1.txt’] #if string tag used in training\n",
    "    print docvec\n",
    "    ```\n",
    "3. Or to get most similar document with similarity scores using document-index\n",
    "\n",
    "    ```\n",
    "    similar_doc = d2v_model.docvecs.most_similar(14) \n",
    "    print similar_doc\n",
    "    ```"
   ]
  },
  {
   "cell_type": "code",
   "execution_count": 63,
   "metadata": {},
   "outputs": [
    {
     "name": "stdout",
     "output_type": "stream",
     "text": [
      "len of sources is 8\n",
      "sci.space\n",
      "<class 'gensim.models.deprecated.doc2vec.LabeledSentence'>\n",
      "LabeledSentence(['lunar', 'satellite', 'needs', 'fuel', 'regular', 'orbit', 'corrections', 'fuel', 'runs', 'crash', 'months', 'orbits', 'apollo', 'motherships', 'changed', 'noticeably', 'lunar', 'missions', 'lasting', 'days', 'possible', 'stable', 'orbits', 'moons', 'gravitational', 'field', 'poorly', 'mapped', 'know', 'perturbations', 'sun', 'earth', 'relatively', 'minor', 'issues', 'low', 'altitudes', 'big', 'problem', 'moons', 'gravitational', 'field', 'quite', 'lumpy', 'irregular', 'distribution', 'mass', 'moon'], ['sci_space_0', 'topic_5', 'topic_5', 'topic_5', 'topic_7', 'topic_5', 'topic_5', 'topic_1', 'topic_5', 'topic_5', 'topic_1', 'topic_1', 'topic_5', 'topic_5', 'topic_1', 'topic_1', 'topic_5', 'topic_5', 'topic_1', 'topic_7', 'topic_1', 'topic_1', 'topic_1', 'topic_5', 'topic_5', 'topic_1', 'topic_5', 'topic_5', 'topic_5', 'topic_5'])\n",
      "30 48\n",
      "['sci_space_0', 'topic_5', 'topic_5', 'topic_5', 'topic_7', 'topic_5', 'topic_5', 'topic_1', 'topic_5', 'topic_5'] ['lunar', 'satellite', 'needs', 'fuel', 'regular', 'orbit', 'corrections', 'fuel', 'runs', 'crash']\n"
     ]
    },
    {
     "name": "stderr",
     "output_type": "stream",
     "text": [
      "/anaconda/envs/py35/lib/python3.5/site-packages/ipykernel_launcher.py:28: DeprecationWarning: Call to deprecated `LabeledSentence` (Class will be removed in 4.0.0, use TaggedDocument instead).\n"
     ]
    }
   ],
   "source": [
    "# print the first new group's item #1\n",
    "inspect_item = next(iter(it))\n",
    "print(type(inspect_item))\n",
    "print(inspect_item)\n",
    "print(len(inspect_item.tags), len(inspect_item.words))\n",
    "print(inspect_item.tags[:10], inspect_item.words[:10])"
   ]
  },
  {
   "cell_type": "code",
   "execution_count": 64,
   "metadata": {},
   "outputs": [
    {
     "name": "stderr",
     "output_type": "stream",
     "text": [
      "/anaconda/envs/py35/lib/python3.5/site-packages/gensim/models/doc2vec.py:359: UserWarning: The parameter `size` is deprecated, will be removed in 4.0.0, use `vector_size` instead.\n",
      "  warnings.warn(\"The parameter `size` is deprecated, will be removed in 4.0.0, use `vector_size` instead.\")\n"
     ]
    },
    {
     "name": "stdout",
     "output_type": "stream",
     "text": [
      "len of sources is 8\n"
     ]
    },
    {
     "name": "stderr",
     "output_type": "stream",
     "text": [
      "/anaconda/envs/py35/lib/python3.5/site-packages/ipykernel_launcher.py:50: DeprecationWarning: Call to deprecated `LabeledSentence` (Class will be removed in 4.0.0, use TaggedDocument instead).\n"
     ]
    }
   ],
   "source": [
    "# type(models.Doc2Vec)\n",
    "model = models.Doc2Vec(size=100, window=10, min_count=4, dm=1, dbow_words=1,\n",
    "                              workers=50, alpha=0.025, min_alpha=0.025) # use fixed learning rate\n",
    "model.build_vocab(it.to_array())"
   ]
  },
  {
   "cell_type": "code",
   "execution_count": 65,
   "metadata": {},
   "outputs": [
    {
     "name": "stderr",
     "output_type": "stream",
     "text": [
      "100%|██████████| 20/20 [04:39<00:00, 13.99s/it]\n"
     ]
    }
   ],
   "source": [
    "from tqdm import tqdm\n",
    "for epoch in tqdm(range(20)):\n",
    "    model.train(it.sentences_perm(), total_examples=model.corpus_count, epochs=1)\n",
    "    model.alpha -= 0.002 # decrease the learning rate\n",
    "    model.min_alpha = model.alpha # fix the learning rate, no decay"
   ]
  },
  {
   "cell_type": "code",
   "execution_count": 66,
   "metadata": {},
   "outputs": [],
   "source": [
    "fname =  os.getcwd() # Prints the working directory\n",
    "fname = fname + '/topic2vec_20NG_2_ndoc' + str(n_docs) + 'n_topic' + str(n_topics) + '.model'\n",
    "model.save(fname)"
   ]
  },
  {
   "cell_type": "markdown",
   "metadata": {},
   "source": [
    "### Show results\n",
    "A quick info about [how to use gensim doc2vec model to query words by label vector or vice versa](https://github.com/RaRe-Technologies/gensim/issues/1397)\n",
    "\n",
    "1. search words using word\n",
    "\n",
    "    ```\n",
    "    model.most_similar('word')\n",
    "    # only similar words were returned but not labels\n",
    "    ```\n",
    "2. search label by label\n",
    "    - use model.docvecs.most_similar to search for similar labels using labels\n",
    "3. search words by label\n",
    "\n",
    "    ```\n",
    "    model.docvecs['label']\n",
    "    model.similar_by_vector(label_vec)\n",
    "    # only similar words were returned\n",
    "    ```\n",
    "4. search labels by word\n",
    "\n",
    "    ```\n",
    "    word_vec = model['word']\n",
    "    model.docvecs.most_similar([word_vec])\n",
    "    # returns similar labels\n",
    "    ```"
   ]
  },
  {
   "cell_type": "code",
   "execution_count": 67,
   "metadata": {},
   "outputs": [
    {
     "name": "stdout",
     "output_type": "stream",
     "text": [
      "loading model from /home/aimladmin/notebooks/home/ksong/Topic2Vec/topic2vec_20NG_2_ndoc4744n_topic8.model\n"
     ]
    }
   ],
   "source": [
    "from gensim import corpora, models, similarities\n",
    "\n",
    "# load the model back\n",
    "fname = fname if fname is not None else 'topic2vec_20NG_2_ndoc4744n_topic8.model'\n",
    "print('loading model from {}'.format(fname))\n",
    "d2v_model = models.doc2vec.Doc2Vec.load(fname)"
   ]
  },
  {
   "cell_type": "code",
   "execution_count": 68,
   "metadata": {},
   "outputs": [
    {
     "name": "stdout",
     "output_type": "stream",
     "text": [
      "4752 [('comp_sys_ibm_pc_hardware_354', Doctag(offset=2148, word_count=224, doc_count=1)), ('comp_sys_ibm_pc_hardware_326', Doctag(offset=2120, word_count=13, doc_count=1)), ('comp_windows_x_442', Doctag(offset=4601, word_count=72, doc_count=1)), ('soc_religion_christian_326', Doctag(offset=1521, word_count=10, doc_count=1)), ('comp_sys_ibm_pc_hardware_291', Doctag(offset=2085, word_count=58, doc_count=1))]\n"
     ]
    }
   ],
   "source": [
    "# list the top 5 tags in the model\n",
    "from itertools import islice\n",
    "\n",
    "paragraphs_tag = d2v_model.docvecs.doctags\n",
    "type(paragraphs_tag)\n",
    "print(len(paragraphs_tag), list(islice(paragraphs_tag.items(),5)))"
   ]
  },
  {
   "cell_type": "code",
   "execution_count": 69,
   "metadata": {},
   "outputs": [
    {
     "name": "stderr",
     "output_type": "stream",
     "text": [
      "/anaconda/envs/py35/lib/python3.5/site-packages/ipykernel_launcher.py:1: DeprecationWarning: Call to deprecated `doctag_syn0` (Attribute will be removed in 4.0.0, use docvecs.vectors_docs instead).\n",
      "  \"\"\"Entry point for launching an IPython kernel.\n"
     ]
    },
    {
     "data": {
      "text/plain": [
       "(4752, 100)"
      ]
     },
     "execution_count": 69,
     "metadata": {},
     "output_type": "execute_result"
    }
   ],
   "source": [
    "ragraphs_vector = d2v_model.docvecs.doctag_syn0\n",
    "ragraphs_vector.shape"
   ]
  },
  {
   "cell_type": "code",
   "execution_count": 105,
   "metadata": {},
   "outputs": [
    {
     "data": {
      "text/plain": [
       "[('rec_sport_baseball_389', 0.35365036129951477),\n",
       " ('rec_sport_baseball_378', 0.34690025448799133),\n",
       " ('comp_sys_ibm_pc_hardware_563', 0.3393045663833618),\n",
       " ('sci_med_524', 0.3304837942123413),\n",
       " ('comp_sys_mac_hardware_518', 0.32284557819366455),\n",
       " ('sci_med_125', 0.3165658116340637),\n",
       " ('rec_sport_hockey_94', 0.28935739398002625),\n",
       " ('comp_sys_mac_hardware_292', 0.289227157831192),\n",
       " ('rec_sport_hockey_203', 0.285552978515625),\n",
       " ('rec_sport_baseball_449', 0.28499162197113037)]"
      ]
     },
     "execution_count": 105,
     "metadata": {},
     "output_type": "execute_result"
    }
   ],
   "source": [
    "d2v_model.docvecs.most_similar(positive = ['sci_space_96'])"
   ]
  },
  {
   "cell_type": "code",
   "execution_count": 115,
   "metadata": {},
   "outputs": [
    {
     "data": {
      "text/plain": [
       "[('lords', 0.39834630489349365),\n",
       " ('doesnt', 0.3908179998397827),\n",
       " ('darling', 0.3805291950702667),\n",
       " ('ahola', 0.35309669375419617),\n",
       " ('worry', 0.3530368208885193),\n",
       " ('destroyed', 0.3495197892189026),\n",
       " ('tale', 0.33816206455230713),\n",
       " ('cpus', 0.33736613392829895),\n",
       " ('lzone', 0.325408935546875),\n",
       " ('ears', 0.3231354355812073)]"
      ]
     },
     "execution_count": 115,
     "metadata": {},
     "output_type": "execute_result"
    }
   ],
   "source": [
    "label_vec = d2v_model.docvecs['sci_space_96']\n",
    "d2v_model.wv.similar_by_vector(label_vec)"
   ]
  },
  {
   "cell_type": "code",
   "execution_count": 70,
   "metadata": {},
   "outputs": [
    {
     "name": "stdout",
     "output_type": "stream",
     "text": [
      ">>> top 10 relevant words of topic 0\n",
      "[('al', 0.8068424463272095), ('holds', 0.7901829481124878), ('rd3', 0.7826679944992065), ('percentage', 0.7784439921379089), ('behalf', 0.7727761268615723), ('spouse', 0.7723900079727173), ('intensive', 0.7632749080657959), ('crime', 0.7625982165336609), ('molecular', 0.7587553858757019), ('experimental', 0.7542406320571899)]\n",
      ">>> top 10 relevant words of topic 1\n",
      "[('echohostname', 0.922170877456665), ('hank', 0.9113080501556396), ('echo', 0.9076107144355774), ('set', 0.9072037935256958), ('woof', 0.8928797841072083), ('aaron', 0.8849927186965942), ('tail', 0.8846719264984131), ('iivx', 0.8805248141288757), ('finished', 0.8791848421096802), ('cdrom', 0.8782916069030762)]\n",
      ">>> top 10 relevant words of topic 2\n",
      "[('decs', 0.8631792068481445), ('create', 0.8595727682113647), ('exposuremask', 0.8494325876235962), ('waking', 0.8476630449295044), ('spoke', 0.8470355272293091), ('event', 0.8446255922317505), ('program', 0.8435776829719543), ('meditating', 0.8421506881713867), ('restored', 0.8416558504104614), ('icon', 0.8404950499534607)]\n",
      ">>> top 10 relevant words of topic 3\n",
      "[('crap', 0.7798736095428467), ('dram', 0.7096757292747498), ('fluid', 0.6836119890213013), ('cycle', 0.6735010147094727), ('someones', 0.6624869108200073), ('falling', 0.6527544856071472), ('affect', 0.6497668623924255), ('propulsion', 0.6358532309532166), ('minors', 0.6320293545722961), ('single', 0.6275367736816406)]\n",
      ">>> top 10 relevant words of topic 4\n",
      "[('dreams', 0.7711558938026428), ('mu', 0.7572609186172485), ('mean', 0.7414233684539795), ('connection', 0.7377687692642212), ('judge', 0.7367845177650452), ('explosions', 0.7366541624069214), ('ideas', 0.736388623714447), ('choosing', 0.7312091588973999), ('believed', 0.729036808013916), ('reformat', 0.7234945297241211)]\n",
      ">>> top 10 relevant words of topic 5\n",
      "[('icon', 0.8683058023452759), ('set', 0.8650736808776855), ('mechanism', 0.8590324521064758), ('ms', 0.8565715551376343), ('coordinates', 0.8454750776290894), ('blit', 0.8400388360023499), ('save', 0.8353490829467773), ('xclrs', 0.834591269493103), ('en', 0.8300473690032959), ('woof', 0.8297919034957886)]\n",
      ">>> top 10 relevant words of topic 6\n",
      "[('health', 0.845354437828064), ('snuff', 0.7913036346435547), ('tobacco', 0.7913007736206055), ('pray', 0.783969521522522), ('brother', 0.7774941921234131), ('punishment', 0.776374340057373), ('chewing', 0.7514508962631226), ('sisterinlaw', 0.7512537837028503), ('yankees', 0.7459442019462585), ('smokeless', 0.7427297830581665)]\n",
      ">>> top 10 relevant words of topic 7\n",
      "[('receive', 0.8917831778526306), ('warned', 0.8816089630126953), ('expose', 0.8808605074882507), ('drawable', 0.868147611618042), ('mainwinwin', 0.8607932925224304), ('drawing', 0.846565842628479), ('excerpts', 0.832735538482666), ('detailwinwin', 0.8278787136077881), ('decs', 0.827242374420166), ('receives', 0.8075612783432007)]\n"
     ]
    }
   ],
   "source": [
    "for topic_idx in range(8):\n",
    "    print('>>> top 10 relevant words of topic {}'.format(topic_idx))\n",
    "    topic_vec = d2v_model.docvecs['topic_{}'.format(topic_idx)]\n",
    "    print(d2v_model.wv.similar_by_vector(topic_vec))"
   ]
  },
  {
   "cell_type": "code",
   "execution_count": 15,
   "metadata": {},
   "outputs": [
    {
     "data": {
      "text/plain": [
       "[('sci_space_411', 0.6604948043823242),\n",
       " ('comp_sys_mac_hardware_42', 0.6437797546386719),\n",
       " ('soc_religion_christian_278', 0.6072692275047302),\n",
       " ('rec_sport_baseball_549', 0.5811659097671509),\n",
       " ('comp_windows_x_404', 0.5668190717697144),\n",
       " ('rec_sport_hockey_233', 0.5499863028526306),\n",
       " ('soc_religion_christian_28', 0.5372079610824585),\n",
       " ('comp_sys_mac_hardware_476', 0.47990018129348755),\n",
       " ('comp_sys_mac_hardware_125', 0.47634610533714294),\n",
       " ('soc_religion_christian_226', 0.4659426808357239)]"
      ]
     },
     "execution_count": 15,
     "metadata": {},
     "output_type": "execute_result"
    }
   ],
   "source": [
    "word_vec = d2v_model['nasa']\n",
    "d2v_model.docvecs.most_similar([word_vec])"
   ]
  },
  {
   "cell_type": "code",
   "execution_count": 107,
   "metadata": {},
   "outputs": [
    {
     "data": {
      "text/plain": [
       "0.644150725372538"
      ]
     },
     "execution_count": 107,
     "metadata": {},
     "output_type": "execute_result"
    }
   ],
   "source": [
    "d2v_model.docvecs.n_similarity(['topic_0', 'topic_2'], ['topic_3', 'topic_4'])"
   ]
  },
  {
   "cell_type": "code",
   "execution_count": 108,
   "metadata": {},
   "outputs": [
    {
     "data": {
      "text/plain": [
       "0.3563553612509076"
      ]
     },
     "execution_count": 108,
     "metadata": {},
     "output_type": "execute_result"
    }
   ],
   "source": [
    "d2v_model.docvecs.similarity('topic_0', 'topic_2')"
   ]
  },
  {
   "cell_type": "code",
   "execution_count": null,
   "metadata": {},
   "outputs": [],
   "source": []
  }
 ],
 "metadata": {
  "kernelspec": {
   "display_name": "Python 3",
   "language": "python",
   "name": "python3"
  },
  "language_info": {
   "codemirror_mode": {
    "name": "ipython",
    "version": 3
   },
   "file_extension": ".py",
   "mimetype": "text/x-python",
   "name": "python",
   "nbconvert_exporter": "python",
   "pygments_lexer": "ipython3",
   "version": "3.5.4"
  }
 },
 "nbformat": 4,
 "nbformat_minor": 1
}
